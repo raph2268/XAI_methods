{
 "cells": [
  {
   "cell_type": "code",
   "execution_count": 31,
   "metadata": {},
   "outputs": [],
   "source": [
    "import os\n",
    "import torch\n",
    "import torch.nn as nn\n",
    "from torchvision import models, transforms\n",
    "from PIL import Image\n",
    "import numpy as np\n",
    "from sklearn.linear_model import SGDClassifier\n",
    "import random\n",
    "import shutil\n",
    "from PIL import Image\n",
    "import matplotlib.pyplot as plt\n",
    "\n",
    "import requests\n"
   ]
  },
  {
   "cell_type": "markdown",
   "metadata": {},
   "source": [
    "# Gathering the data\n",
    "\n",
    "For using the TCAV, in addition to our dataset on which our model is trained, we need three other sets:\n",
    "- The concept set: contains 30 to 100 images that will be used to fit our concept activation vector\n",
    "- The random set: contains roughly the same amount of image as the concept set, these are the random images that will be use to train the linear classifier from which we will infer the CAV \n",
    "- The target set: contains the images that we wish to evaluate our concept on"
   ]
  },
  {
   "cell_type": "code",
   "execution_count": null,
   "metadata": {},
   "outputs": [],
   "source": [
    "concept_image_paths = \"data_tcav/concepts/wheel/*.jpg\"\n",
    "random_image_paths = \"data/concepts/random/*.jpg\"\n",
    "target_image_paths = \"data/targets/car/*.jpg\""
   ]
  },
  {
   "cell_type": "code",
   "execution_count": 32,
   "metadata": {},
   "outputs": [],
   "source": [
    "def preview_image(image_path):\n",
    "    image_files = [f for f in os.listdir(image_path) if f.endswith('.jpg')]\n",
    "\n",
    "    # Limit to first 40 images\n",
    "    image_files = image_files[:40]\n",
    "\n",
    "    # Set up a grid size (e.g., 5x8 grid for 40 images)\n",
    "    fig, axes = plt.subplots(nrows=5, ncols=8, figsize=(15, 10))\n",
    "\n",
    "    # Loop through images and plot them\n",
    "    for i, ax in enumerate(axes.flat):\n",
    "        if i < len(image_files):\n",
    "            img_path = os.path.join(image_path, image_files[i])\n",
    "            img = Image.open(img_path)\n",
    "            ax.imshow(img)\n",
    "            ax.axis('off')  # Hide axes\n",
    "\n",
    "    # Adjust layout for better spacing\n",
    "    plt.tight_layout()\n",
    "    plt.show()"
   ]
  },
  {
   "cell_type": "markdown",
   "metadata": {},
   "source": [
    "## Random images"
   ]
  },
  {
   "cell_type": "code",
   "execution_count": 36,
   "metadata": {},
   "outputs": [
    {
     "name": "stdout",
     "output_type": "stream",
     "text": [
      "Failed to download image 0 from https://source.unsplash.com/random/400x400?sig=0\n",
      "Failed to download image 1 from https://source.unsplash.com/random/400x400?sig=1\n",
      "Failed to download image 2 from https://source.unsplash.com/random/400x400?sig=2\n",
      "Failed to download image 3 from https://source.unsplash.com/random/400x400?sig=3\n",
      "Failed to download image 4 from https://source.unsplash.com/random/400x400?sig=4\n",
      "Failed to download image 5 from https://source.unsplash.com/random/400x400?sig=5\n",
      "Failed to download image 6 from https://source.unsplash.com/random/400x400?sig=6\n",
      "Failed to download image 7 from https://source.unsplash.com/random/400x400?sig=7\n",
      "Failed to download image 8 from https://source.unsplash.com/random/400x400?sig=8\n",
      "Failed to download image 9 from https://source.unsplash.com/random/400x400?sig=9\n",
      "Failed to download image 10 from https://source.unsplash.com/random/400x400?sig=10\n",
      "Failed to download image 11 from https://source.unsplash.com/random/400x400?sig=11\n",
      "Failed to download image 12 from https://source.unsplash.com/random/400x400?sig=12\n",
      "Failed to download image 13 from https://source.unsplash.com/random/400x400?sig=13\n",
      "Failed to download image 14 from https://source.unsplash.com/random/400x400?sig=14\n",
      "Failed to download image 15 from https://source.unsplash.com/random/400x400?sig=15\n",
      "Failed to download image 16 from https://source.unsplash.com/random/400x400?sig=16\n",
      "Failed to download image 17 from https://source.unsplash.com/random/400x400?sig=17\n",
      "Failed to download image 18 from https://source.unsplash.com/random/400x400?sig=18\n",
      "Failed to download image 19 from https://source.unsplash.com/random/400x400?sig=19\n",
      "Failed to download image 20 from https://source.unsplash.com/random/400x400?sig=20\n",
      "Failed to download image 21 from https://source.unsplash.com/random/400x400?sig=21\n",
      "Failed to download image 22 from https://source.unsplash.com/random/400x400?sig=22\n",
      "Failed to download image 23 from https://source.unsplash.com/random/400x400?sig=23\n",
      "Failed to download image 24 from https://source.unsplash.com/random/400x400?sig=24\n",
      "Failed to download image 25 from https://source.unsplash.com/random/400x400?sig=25\n",
      "Failed to download image 26 from https://source.unsplash.com/random/400x400?sig=26\n",
      "Failed to download image 27 from https://source.unsplash.com/random/400x400?sig=27\n",
      "Failed to download image 28 from https://source.unsplash.com/random/400x400?sig=28\n",
      "Failed to download image 29 from https://source.unsplash.com/random/400x400?sig=29\n",
      "Failed to download image 30 from https://source.unsplash.com/random/400x400?sig=30\n",
      "Failed to download image 31 from https://source.unsplash.com/random/400x400?sig=31\n",
      "Failed to download image 32 from https://source.unsplash.com/random/400x400?sig=32\n",
      "Failed to download image 33 from https://source.unsplash.com/random/400x400?sig=33\n",
      "Failed to download image 34 from https://source.unsplash.com/random/400x400?sig=34\n",
      "Failed to download image 35 from https://source.unsplash.com/random/400x400?sig=35\n",
      "Failed to download image 36 from https://source.unsplash.com/random/400x400?sig=36\n",
      "Failed to download image 37 from https://source.unsplash.com/random/400x400?sig=37\n",
      "Failed to download image 38 from https://source.unsplash.com/random/400x400?sig=38\n",
      "Failed to download image 39 from https://source.unsplash.com/random/400x400?sig=39\n"
     ]
    },
    {
     "ename": "UnidentifiedImageError",
     "evalue": "cannot identify image file 'data_tcav/random/img_0.jpg'",
     "output_type": "error",
     "traceback": [
      "\u001b[31m---------------------------------------------------------------------------\u001b[39m",
      "\u001b[31mUnidentifiedImageError\u001b[39m                    Traceback (most recent call last)",
      "\u001b[36mCell\u001b[39m\u001b[36m \u001b[39m\u001b[32mIn[36]\u001b[39m\u001b[32m, line 14\u001b[39m\n\u001b[32m      9\u001b[39m     \u001b[38;5;28;01melse\u001b[39;00m:\n\u001b[32m     10\u001b[39m         \u001b[38;5;28mprint\u001b[39m(\u001b[33mf\u001b[39m\u001b[33m\"\u001b[39m\u001b[33mFailed to download image \u001b[39m\u001b[38;5;132;01m{\u001b[39;00mi\u001b[38;5;132;01m}\u001b[39;00m\u001b[33m from \u001b[39m\u001b[38;5;132;01m{\u001b[39;00murl\u001b[38;5;132;01m}\u001b[39;00m\u001b[33m\"\u001b[39m)\n\u001b[32m---> \u001b[39m\u001b[32m14\u001b[39m preview_image(\u001b[33m\"\u001b[39m\u001b[33mdata_tcav/random\u001b[39m\u001b[33m\"\u001b[39m)\n",
      "\u001b[36mCell\u001b[39m\u001b[36m \u001b[39m\u001b[32mIn[32]\u001b[39m\u001b[32m, line 14\u001b[39m, in \u001b[36mpreview_image\u001b[39m\u001b[34m(image_path)\u001b[39m\n\u001b[32m     12\u001b[39m \u001b[38;5;28;01mif\u001b[39;00m i < \u001b[38;5;28mlen\u001b[39m(image_files):\n\u001b[32m     13\u001b[39m     img_path = os.path.join(image_path, image_files[i])\n\u001b[32m---> \u001b[39m\u001b[32m14\u001b[39m     img = Image.open(img_path)\n\u001b[32m     15\u001b[39m     ax.imshow(img)\n\u001b[32m     16\u001b[39m     ax.axis(\u001b[33m'\u001b[39m\u001b[33moff\u001b[39m\u001b[33m'\u001b[39m)  \u001b[38;5;66;03m# Hide axes\u001b[39;00m\n",
      "\u001b[36mFile \u001b[39m\u001b[32m~/anaconda3/envs/XAI/lib/python3.12/site-packages/PIL/Image.py:3572\u001b[39m, in \u001b[36mopen\u001b[39m\u001b[34m(fp, mode, formats)\u001b[39m\n\u001b[32m   3570\u001b[39m     warnings.warn(message)\n\u001b[32m   3571\u001b[39m msg = \u001b[33m\"\u001b[39m\u001b[33mcannot identify image file \u001b[39m\u001b[38;5;132;01m%r\u001b[39;00m\u001b[33m\"\u001b[39m % (filename \u001b[38;5;28;01mif\u001b[39;00m filename \u001b[38;5;28;01melse\u001b[39;00m fp)\n\u001b[32m-> \u001b[39m\u001b[32m3572\u001b[39m \u001b[38;5;28;01mraise\u001b[39;00m UnidentifiedImageError(msg)\n",
      "\u001b[31mUnidentifiedImageError\u001b[39m: cannot identify image file 'data_tcav/random/img_0.jpg'"
     ]
    },
    {
     "data": {
      "image/png": "[encoded data removed]",
      "text/plain": [
       "<Figure size 1500x1000 with 40 Axes>"
      ]
     },
     "metadata": {},
     "output_type": "display_data"
    }
   ],
   "source": [
    "\n",
    "for i in range(40):\n",
    "    url = f\"https://source.unsplash.com/random/400x400?sig={i}\"\n",
    "    response = requests.get(url)\n",
    "    \n",
    "    # Check if the download was successful\n",
    "    if response.status_code == 200:\n",
    "        with open(f\"data_tcav/random/img_{i}.jpg\", 'wb') as f:\n",
    "            f.write(response.content)\n",
    "    else:\n",
    "        print(f\"Failed to download image {i} from {url}\")\n",
    "\n",
    "\n",
    "        \n",
    "preview_image(\"data_tcav/random\")"
   ]
  },
  {
   "cell_type": "markdown",
   "metadata": {},
   "source": [
    "## Target images"
   ]
  },
  {
   "cell_type": "code",
   "execution_count": null,
   "metadata": {},
   "outputs": [
    {
     "name": "stdout",
     "output_type": "stream",
     "text": [
      "Resuming download from 627048448 bytes (88274118 bytes left)...\n",
      "Resuming download from https://www.kaggle.com/api/v1/datasets/download/prondeau/the-car-connection-picture-dataset?dataset_version_number=1 (627048448/715322566) bytes left.\n"
     ]
    },
    {
     "name": "stderr",
     "output_type": "stream",
     "text": [
      "100%|██████████| 682M/682M [00:03<00:00, 24.5MB/s]"
     ]
    },
    {
     "name": "stdout",
     "output_type": "stream",
     "text": [
      "Extracting files...\n"
     ]
    },
    {
     "name": "stderr",
     "output_type": "stream",
     "text": [
      "\n"
     ]
    },
    {
     "name": "stdout",
     "output_type": "stream",
     "text": [
      "Path to dataset files: /home/raph2268/.cache/kagglehub/datasets/prondeau/the-car-connection-picture-dataset/versions/1\n"
     ]
    }
   ],
   "source": [
    "import kagglehub\n",
    "\n",
    "# Download latest version\n",
    "path = kagglehub.dataset_download(\"prondeau/the-car-connection-picture-dataset\")\n",
    "destination_dir = \"/path/to/your/target/directory\"\n",
    "\n",
    "print(\"Path to dataset files:\", path)"
   ]
  },
  {
   "cell_type": "code",
   "execution_count": null,
   "metadata": {},
   "outputs": [
    {
     "name": "stdout",
     "output_type": "stream",
     "text": [
      "64467\n"
     ]
    }
   ],
   "source": [
    "all_files = os.listdir(path)\n",
    "print(len(all_files))"
   ]
  },
  {
   "cell_type": "code",
   "execution_count": null,
   "metadata": {},
   "outputs": [
    {
     "name": "stdout",
     "output_type": "stream",
     "text": [
      "300 randomly selected files moved, and the rest removed.\n"
     ]
    }
   ],
   "source": [
    "destination_dir = 'data_tcav/targets/car'\n",
    "\n",
    "# Randomly select 300 files to keep (or however many are available)\n",
    "num_files_to_keep = 300\n",
    "files_to_keep = random.sample(all_files, min(num_files_to_keep, len(all_files)))\n",
    "\n",
    "# Loop through the files and move or delete them\n",
    "for file_name in all_files:\n",
    "    file_path = os.path.join(path, file_name)\n",
    "    \n",
    "    if file_name in files_to_keep:\n",
    "        # Move the selected file to the destination directory\n",
    "        shutil.move(file_path, os.path.join(destination_dir, file_name))\n",
    "    else:\n",
    "        # Remove the files you don't want\n",
    "        os.remove(file_path)\n",
    "\n",
    "print(\"300 randomly selected files moved, and the rest removed.\")"
   ]
  },
  {
   "cell_type": "code",
   "execution_count": null,
   "metadata": {},
   "outputs": [
    {
     "name": "stderr",
     "output_type": "stream",
     "text": [
      "/home/raph2268/anaconda3/envs/XAI/lib/python3.12/site-packages/torchvision/models/_utils.py:208: UserWarning: The parameter 'pretrained' is deprecated since 0.13 and may be removed in the future, please use 'weights' instead.\n",
      "  warnings.warn(\n",
      "/home/raph2268/anaconda3/envs/XAI/lib/python3.12/site-packages/torchvision/models/_utils.py:223: UserWarning: Arguments other than a weight enum or `None` for 'weights' are deprecated since 0.13 and may be removed in the future. The current behavior is equivalent to passing `weights=ResNet50_Weights.IMAGENET1K_V1`. You can also use `weights=ResNet50_Weights.DEFAULT` to get the most up-to-date weights.\n",
      "  warnings.warn(msg)\n"
     ]
    },
    {
     "name": "stdout",
     "output_type": "stream",
     "text": [
      "Downloading: \"https://download.pytorch.org/models/resnet50-0676ba61.pth\" to /home/raph2268/.cache/torch/hub/checkpoints/resnet50-0676ba61.pth\n"
     ]
    },
    {
     "name": "stderr",
     "output_type": "stream",
     "text": [
      "100.0%\n"
     ]
    }
   ],
   "source": [
    "model = models.resnet50(pretrained=True)\n",
    "model.eval()\n",
    "\n",
    "# Choose a layer (we'll hook 'layer4' as an example)\n",
    "layer_activations = []\n",
    "\n",
    "def hook(module, input, output):\n",
    "    layer_activations.append(output.detach())\n",
    "\n",
    "hook_handle = model.layer4.register_forward_hook(hook)"
   ]
  },
  {
   "cell_type": "code",
   "execution_count": null,
   "metadata": {},
   "outputs": [],
   "source": [
    "preprocess = transforms.Compose([\n",
    "    transforms.Resize((224, 224)),\n",
    "    transforms.ToTensor(),\n",
    "    transforms.Normalize(mean=[0.485, 0.456, 0.406],\n",
    "                         std=[0.229, 0.224, 0.225])\n",
    "])\n",
    "\n",
    "def load_image(path):\n",
    "    img = Image.open(path).convert('RGB')\n",
    "    return preprocess(img).unsqueeze(0)# shape: [1, 3, 224, 224]"
   ]
  },
  {
   "cell_type": "code",
   "execution_count": null,
   "metadata": {},
   "outputs": [],
   "source": [
    "def get_activations(img_paths):\n",
    "    activations = []\n",
    "    for path in img_paths:\n",
    "        layer_activations.clear()\n",
    "        input_tensor = load_image(path)\n",
    "        _ = model(input_tensor)\n",
    "        acts = layer_activations[0]\n",
    "        acts = acts.mean(dim=(2, 3)).squeeze().numpy()  # Global Average Pool\n",
    "        activations.append(acts)\n",
    "    return np.array(activations)\n"
   ]
  },
  {
   "cell_type": "code",
   "execution_count": null,
   "metadata": {},
   "outputs": [],
   "source": [
    "\n",
    "concept_activations = get_activations(concept_image_paths)\n",
    "random_activations = get_activations(random_image_paths)\n",
    "\n",
    "X = np.concatenate([concept_activations, random_activations])\n",
    "y = np.array([1] * len(concept_activations) + [0] * len(random_activations))\n",
    "\n",
    "clf = SGDClassifier(alpha=0.01, max_iter=1000)\n",
    "clf.fit(X, y)\n",
    "cav = clf.coef_[0]"
   ]
  }
 ],
 "metadata": {
  "kernelspec": {
   "display_name": "Python (XAI)",
   "language": "python",
   "name": "xai"
  },
  "language_info": {
   "codemirror_mode": {
    "name": "ipython",
    "version": 3
   },
   "file_extension": ".py",
   "mimetype": "text/x-python",
   "name": "python",
   "nbconvert_exporter": "python",
   "pygments_lexer": "ipython3",
   "version": "3.12.9"
  }
 },
 "nbformat": 4,
 "nbformat_minor": 2
}
