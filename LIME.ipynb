{
 "cells": [
  {
   "cell_type": "markdown",
   "metadata": {},
   "source": [
    "# LIME"
   ]
  },
  {
   "cell_type": "markdown",
   "metadata": {},
   "source": [
    "Local Interpretable Model-agnostic Explanations (LIME) is a technique of explaining the predictions of a black box machine learning model by building a number of interpretable local surrogate models (like linear regression). Surrogate models are trained on the predictions of the underlying black box model. \n",
    "\n",
    "\n",
    "\n",
    "LIME (Local Interpretable Model-agnostic Explanations) assumes we already have\n",
    "a trained machine learning model, it is model agnostic.\n",
    "Let's first create and train a model\n",
    "  "
   ]
  },
  {
   "cell_type": "markdown",
   "metadata": {},
   "source": [
    "## Imports"
   ]
  },
  {
   "cell_type": "code",
   "execution_count": 6,
   "metadata": {},
   "outputs": [],
   "source": [
    "import torch\n",
    "import torch.nn as nn\n",
    "import torch.optim as optim\n",
    "import torchvision\n",
    "import torchvision.transforms as transforms\n",
    "import matplotlib.pyplot as plt\n",
    "import numpy as np"
   ]
  },
  {
   "cell_type": "markdown",
   "metadata": {},
   "source": [
    "## Data import \n",
    "\n",
    "Let's us MNIST data set. To make our example even more clearer, we will classify only between 1 and 7. Usually the hardest to identify due to there similarity in script wrtting. "
   ]
  },
  {
   "cell_type": "code",
   "execution_count": 7,
   "metadata": {},
   "outputs": [],
   "source": [
    "from torch.utils.data import Dataset\n",
    "from torchvision import datasets, transforms\n",
    "import torch\n",
    "\n",
    "class SubsetMNIST(Dataset):\n",
    "    def __init__(self, original_dataset, classes=[1, 7]):\n",
    "        self.data = []\n",
    "        self.targets = []\n",
    "        \n",
    "        # Define the transformation to convert images to tensors\n",
    "        transform = transforms.Compose([transforms.ToTensor()])\n",
    "        \n",
    "        # Filter dataset to only include the classes you want\n",
    "        for i in range(len(original_dataset)):\n",
    "            img, label = original_dataset[i]\n",
    "            if label in classes:\n",
    "                # Apply the transformation to the image\n",
    "                img = transform(img)\n",
    "                \n",
    "                # Remap labels: 1 -> 0, 7 -> 1\n",
    "                if label == 1:\n",
    "                    label = 0\n",
    "                elif label == 7:\n",
    "                    label = 1\n",
    "                \n",
    "                self.data.append(img)\n",
    "                self.targets.append(label)\n",
    "        \n",
    "        # Convert the list of targets to a tensor\n",
    "        self.targets = torch.tensor(self.targets)\n",
    "\n",
    "    def __getitem__(self, index):\n",
    "        return self.data[index], self.targets[index]\n",
    "\n",
    "    def __len__(self):\n",
    "        return len(self.data)\n",
    "\n",
    "# Load the original MNIST dataset\n",
    "full_train_dataset = datasets.MNIST(root='./data', train=True, download=True)\n",
    "full_test_dataset = datasets.MNIST(root='./data', train=False, download=True)\n",
    "\n",
    "# Create a subset of the MNIST dataset containing only classes 1 and 7\n",
    "train_dataset = SubsetMNIST(full_train_dataset, classes=[1, 7])\n",
    "test_dataset = SubsetMNIST(full_test_dataset, classes=[1, 7])\n",
    "\n",
    "\n",
    "# Create DataLoaders\n",
    "train_loader = torch.utils.data.DataLoader(train_dataset, batch_size=64, shuffle=True)\n",
    "test_loader = torch.utils.data.DataLoader(test_dataset, batch_size=1, shuffle=False)\n"
   ]
  },
  {
   "cell_type": "markdown",
   "metadata": {},
   "source": [
    "## Model :\n",
    "\n",
    "Let's now build our simple CNN model"
   ]
  },
  {
   "cell_type": "code",
   "execution_count": 8,
   "metadata": {},
   "outputs": [],
   "source": [
    "class MNIST_CNN(nn.Module):\n",
    "    def __init__(self):\n",
    "        super(MNIST_CNN, self).__init__()\n",
    "        self.conv1 = nn.Conv2d(1, 16, kernel_size=3, stride=1, padding=1)  # 28x28 -> 28x28\n",
    "        self.conv2 = nn.Conv2d(16, 32, kernel_size=3, stride=1, padding=1)  # 28x28 -> 28x28\n",
    "        self.pool = nn.AvgPool2d(2, 2)  # 28x28 -> 14x14\n",
    "        self.fc1 = nn.Linear(32 * 14 * 14, 2)  # 32 channels * 14x14 spatial size -> 2 classes\n",
    "        self.relu = nn.ReLU()\n",
    "\n",
    "    def forward(self, x):\n",
    "        x = self.conv1(x)\n",
    "        x = self.relu(x)\n",
    "        x = self.conv2(x)\n",
    "        x = self.relu(x)\n",
    "        x = self.pool(x)  # Pooling to reduce the size\n",
    "        x = x.view(x.size(0), -1)  # Flatten the tensor for the fully connected layer\n",
    "        x = self.fc1(x)\n",
    "        return x\n"
   ]
  },
  {
   "cell_type": "markdown",
   "metadata": {},
   "source": [
    "### Training \n",
    "Let's train it for a few epochs :"
   ]
  },
  {
   "cell_type": "code",
   "execution_count": 9,
   "metadata": {},
   "outputs": [
    {
     "name": "stdout",
     "output_type": "stream",
     "text": [
      "Epoch [1/5], Loss: 0.0635\n",
      "Epoch [2/5], Loss: 0.0146\n",
      "Epoch [3/5], Loss: 0.0116\n",
      "Epoch [4/5], Loss: 0.0104\n",
      "Epoch [5/5], Loss: 0.0079\n",
      "Training complete!\n"
     ]
    }
   ],
   "source": [
    "# Initialize the model, criterion, and optimizer\n",
    "model = MNIST_CNN()\n",
    "criterion = nn.CrossEntropyLoss()\n",
    "optimizer = optim.Adam(model.parameters(), lr=0.001)\n",
    "\n",
    "# Training loop\n",
    "num_epochs = 5  # Set number of epochs as needed\n",
    "\n",
    "for epoch in range(num_epochs):\n",
    "    model.train()\n",
    "    running_loss = 0.0\n",
    "\n",
    "    for images, labels in train_loader:\n",
    "        optimizer.zero_grad()\n",
    "        outputs = model(images)\n",
    "        loss = criterion(outputs, labels)\n",
    "        loss.backward()\n",
    "        optimizer.step()\n",
    "        running_loss += loss.item()\n",
    "\n",
    "    print(f\"Epoch [{epoch+1}/{num_epochs}], Loss: {running_loss/len(train_loader):.4f}\")\n",
    "\n",
    "print(\"Training complete!\")\n"
   ]
  },
  {
   "cell_type": "code",
   "execution_count": 10,
   "metadata": {},
   "outputs": [
    {
     "name": "stdout",
     "output_type": "stream",
     "text": [
      "Accuracy on test set: 99.72%\n"
     ]
    }
   ],
   "source": [
    "correct = 0\n",
    "total = 0\n",
    "with torch.no_grad():  # No gradients needed for evaluation\n",
    "    for images, labels in test_loader:\n",
    "        outputs = model(images)\n",
    "        _, predicted = torch.max(outputs, 1)\n",
    "        total += labels.size(0)\n",
    "        correct += (predicted == labels).sum().item()\n",
    "\n",
    "accuracy = correct / total * 100\n",
    "print(f\"Accuracy on test set: {accuracy:.2f}%\")\n"
   ]
  },
  {
   "cell_type": "markdown",
   "metadata": {},
   "source": [
    "### Evaluation : \n",
    "\n",
    "Finally let's evaluate to check the robustness of our model"
   ]
  },
  {
   "cell_type": "code",
   "execution_count": 11,
   "metadata": {},
   "outputs": [
    {
     "name": "stdout",
     "output_type": "stream",
     "text": [
      "torch.Size([5, 1, 28, 28])\n"
     ]
    },
    {
     "data": {
      "image/png": "[encoded data removed]",
      "text/plain": [
       "<Figure size 640x480 with 5 Axes>"
      ]
     },
     "metadata": {},
     "output_type": "display_data"
    },
    {
     "name": "stdout",
     "output_type": "stream",
     "text": [
      "Accuracy on test set: 99.72%\n"
     ]
    }
   ],
   "source": [
    "import matplotlib.pyplot as plt\n",
    "\n",
    "# Set model to evaluation mode\n",
    "model.eval()\n",
    "test_loader = torch.utils.data.DataLoader(test_dataset, batch_size=5, shuffle=False)\n",
    "\n",
    "# Get a batch of test data\n",
    "images, labels = next(iter(test_loader))  # Get a batch of images\n",
    "outputs = model(images)\n",
    "print(images.shape)\n",
    "# Get predicted class indices\n",
    "_, predicted = torch.max(outputs, 1)\n",
    "\n",
    "# Plot the first 5 images in the batch with their predicted and true labels\n",
    "for i in range(5):\n",
    "    plt.subplot(1, 5, i+1)\n",
    "    plt.imshow(images[i].squeeze(), cmap=\"gray\")  # squeeze to remove unnecessary dimension\n",
    "    plt.title(f\"Pred: {(predicted[i].item())*6+1} \\n True: {(labels[i].item())*6+1}\")\n",
    "    plt.axis('off')\n",
    "\n",
    "plt.show()\n",
    "\n",
    "# Compute accuracy on the test dataset\n",
    "correct = 0\n",
    "total = 0\n",
    "with torch.no_grad():  # No need to track gradients for evaluation\n",
    "    for images, labels in test_loader:\n",
    "        outputs = model(images)\n",
    "        _, predicted = torch.max(outputs, 1)\n",
    "        total += labels.size(0)\n",
    "        correct += (predicted == labels).sum().item()\n",
    "\n",
    "accuracy = correct / total * 100  # Accuracy as percentage\n",
    "print(f\"Accuracy on test set: {accuracy:.2f}%\")\n",
    "\n"
   ]
  },
  {
   "cell_type": "markdown",
   "metadata": {},
   "source": [
    "We can now check the wrongly labeled one "
   ]
  },
  {
   "cell_type": "code",
   "execution_count": 12,
   "metadata": {},
   "outputs": [
    {
     "data": {
      "text/plain": [
       "tensor([0, 1, 0])"
      ]
     },
     "execution_count": 12,
     "metadata": {},
     "output_type": "execute_result"
    }
   ],
   "source": [
    "labels"
   ]
  },
  {
   "cell_type": "code",
   "execution_count": 13,
   "metadata": {},
   "outputs": [
    {
     "data": {
      "text/plain": [
       "tensor([0, 1, 0])"
      ]
     },
     "execution_count": 13,
     "metadata": {},
     "output_type": "execute_result"
    }
   ],
   "source": [
    "predicted\n"
   ]
  },
  {
   "cell_type": "markdown",
   "metadata": {},
   "source": [
    "## LIME "
   ]
  },
  {
   "cell_type": "markdown",
   "metadata": {},
   "source": [
    "LIME focuses on the locality of the specific instance we want to explain.It does not explore all possible regions of the dataset rather but zooms in on the region near the selected instance. It provides a local explanation.\n",
    "\n",
    "Around this instance, LIME generates a set of perturbed instances by slightly modifying its features (e.g., flipping binary features, altering numerical values). Meaning LIME is a perturbation based model.\n",
    "\n",
    "It then maps the data into an interpretable space (e.g., for text, it might use the presence/absence of words; for images, it might use superpixels). This simplification makes the explanation understandable to humans. \n",
    "\n",
    "LIME fits a simple, interpretable surrogate model (e.g., a linear regression or decision tree) using the weighted perturbed instances. This model approximates the black-box model's behavior locally around the selected instance.\n",
    "\n",
    "The interpretable model is trained to mimic the predictions of the black-box model as closely as possible in the vicinity of the instance.\n",
    "\n"
   ]
  },
  {
   "cell_type": "code",
   "execution_count": 38,
   "metadata": {},
   "outputs": [],
   "source": [
    "import numpy as np\n",
    "import matplotlib.pyplot as plt\n",
    "from skimage.segmentation import slic\n",
    "from skimage.color import gray2rgb\n",
    "from skimage.segmentation import mark_boundaries\n",
    "from sklearn.linear_model import Ridge\n",
    "import torch.nn.functional as F\n",
    "\n",
    "\n",
    "def generate_perturbations(image, segments, num_samples=1000):\n",
    "    num_superpixels = np.max(segments) + 1\n",
    "    perturbations = np.random.randint(0, 2, size=(num_samples, num_superpixels))\n",
    "    perturbed_images = []\n",
    "    image = np.array(image)\n",
    "\n",
    "\n",
    "    for mask in perturbations:\n",
    "        temp = image.copy()\n",
    "        for i in range(num_superpixels):\n",
    "            if mask[i] == 0:\n",
    "                temp[segments == i] = 0  # Mask this superpixel\n",
    "        perturbed_images.append(temp)\n",
    "\n",
    "    return np.array(perturbations), np.array(perturbed_images)\n",
    "\n",
    "def explain_lime(image, predict_fn, label, num_samples=1000, num_segments=10):\n",
    "    # Segment image into superpixels\n",
    "    segments = slic(gray2rgb(image), n_segments=num_segments, compactness=10, sigma=1, start_label=0)\n",
    "\n",
    "    # Generate perturbed images and corresponding masks\n",
    "    perturbations, perturbed_images = generate_perturbations(image, segments, num_samples)\n",
    "\n",
    "    # Get predictions for perturbed images\n",
    "    preds = predict_fn(perturbed_images)\n",
    "    preds_for_label = preds[:, label]\n",
    "\n",
    "    # Fit a linear model (LIME step)\n",
    "    model = Ridge(alpha=1, fit_intercept=True)\n",
    "    model.fit(perturbations, preds_for_label)\n",
    "\n",
    "    # Get importance weights for superpixels\n",
    "    weights = model.coef_\n",
    "\n",
    "    # Create explanation image\n",
    "    explanation = np.zeros_like(image, dtype=float)\n",
    "    for i in range(weights.shape[0]):\n",
    "        explanation[segments == i] = weights[i]\n",
    "\n",
    "    return segments, explanation\n",
    "\n",
    "def predict_fn(images_np):\n",
    "    # images_np: (N, 1, H, W) or (N, H, W)\n",
    "    if images_np.ndim == 3:  # (N, H, W), add channel dimension\n",
    "        images_np = images_np[:, np.newaxis, :, :]\n",
    "    \n",
    "    images_tensor = torch.tensor(images_np, dtype=torch.float32)\n",
    "    \n",
    "    with torch.no_grad():\n",
    "        outputs = model(images_tensor)          # logits\n",
    "        probs = F.softmax(outputs, dim=1)       # Convert to probabilities\n",
    "    \n",
    "    return probs.cpu().numpy()\n"
   ]
  },
  {
   "cell_type": "code",
   "execution_count": 39,
   "metadata": {},
   "outputs": [
    {
     "name": "stdout",
     "output_type": "stream",
     "text": [
      "(1, 28, 28)\n"
     ]
    },
    {
     "name": "stderr",
     "output_type": "stream",
     "text": [
      "/tmp/ipykernel_1658/2407435988.py:9: DeprecationWarning: __array__ implementation doesn't accept a copy keyword, so passing copy=False failed. __array__ must implement 'dtype' and 'copy' keyword arguments.\n",
      "  print(np.array(images[0]).shape)\n"
     ]
    }
   ],
   "source": [
    "# Set model to evaluation mode\n",
    "model.eval()\n",
    "test_loader = torch.utils.data.DataLoader(test_dataset, batch_size=1000, shuffle=False)\n",
    "\n",
    "# Get a batch of test data\n",
    "images, labels = next(iter(test_loader)) \n",
    "\n",
    "image = images[0].squeeze()\n",
    "print(np.array(images[0]).shape)"
   ]
  },
  {
   "cell_type": "code",
   "execution_count": 43,
   "metadata": {},
   "outputs": [
    {
     "name": "stderr",
     "output_type": "stream",
     "text": [
      "/tmp/ipykernel_1658/4015107440.py:14: DeprecationWarning: __array__ implementation doesn't accept a copy keyword, so passing copy=False failed. __array__ must implement 'dtype' and 'copy' keyword arguments.\n",
      "  image = np.array(image)\n",
      "/tmp/ipykernel_1658/1686888873.py:14: DeprecationWarning: __array__ implementation doesn't accept a copy keyword, so passing copy=False failed. __array__ must implement 'dtype' and 'copy' keyword arguments.\n",
      "  ax[1].imshow(mark_boundaries(np.array(image), segments))\n"
     ]
    },
    {
     "data": {
      "image/png": "[encoded data removed]",
      "text/plain": [
       "<Figure size 1000x500 with 2 Axes>"
      ]
     },
     "metadata": {},
     "output_type": "display_data"
    }
   ],
   "source": [
    "# Set model to evaluation mode\n",
    "model.eval()\n",
    "test_loader = torch.utils.data.DataLoader(test_dataset, batch_size=5, shuffle=False)\n",
    "\n",
    "# Get a batch of test data\n",
    "images, labels = next(iter(test_loader)) \n",
    "\n",
    "segments, explanation = explain_lime(image, predict_fn, label=1)\n",
    "\n",
    "# Plot\n",
    "fig, ax = plt.subplots(1, 2, figsize=(10, 5))\n",
    "ax[0].imshow(image, cmap='gray')\n",
    "ax[0].set_title(\"Original Image\")\n",
    "ax[1].imshow(mark_boundaries(np.array(image), segments))\n",
    "ax[1].imshow(explanation, cmap='jet', alpha=0.5)\n",
    "ax[1].set_title(\"LIME Explanation\")\n",
    "plt.show()\n"
   ]
  },
  {
   "cell_type": "code",
   "execution_count": 67,
   "metadata": {},
   "outputs": [
    {
     "name": "stdout",
     "output_type": "stream",
     "text": [
      "1\n"
     ]
    },
    {
     "data": {
      "image/png": "[encoded data removed]",
      "text/plain": [
       "<Figure size 1000x200 with 7 Axes>"
      ]
     },
     "metadata": {},
     "output_type": "display_data"
    }
   ],
   "source": [
    "test_image, test_label = test_dataset[278]  # Image wrongly classified\n",
    "\n",
    "test_image = test_image.unsqueeze(0) \n",
    "\n",
    "# Define a zero baseline (black image)\n",
    "baseline = torch.zeros_like(test_image)\n",
    "\n",
    "# Get the predicted class for our test image\n",
    "output = model(test_image)\n",
    "predicted_class = output.argmax().item()\n",
    "print(predicted_class*6+1)\n",
    "# Compute Integrated Gradients\n",
    "ig_attributions = integrated_gradients(model, test_image, baseline, target_class=predicted_class, steps=50)"
   ]
  },
  {
   "cell_type": "code",
   "execution_count": 66,
   "metadata": {},
   "outputs": [
    {
     "name": "stdout",
     "output_type": "stream",
     "text": [
      "1\n"
     ]
    },
    {
     "data": {
      "image/png": "[encoded data removed]",
      "text/plain": [
       "<Figure size 1000x200 with 7 Axes>"
      ]
     },
     "metadata": {},
     "output_type": "display_data"
    }
   ],
   "source": [
    "test_image, test_label = test_dataset[329]  # Image wrongly classified\n",
    "\n",
    "test_image = test_image.unsqueeze(0) \n",
    "\n",
    "# Define a zero baseline (black image)\n",
    "baseline = torch.zeros_like(test_image)\n",
    "\n",
    "# Get the predicted class for our test image\n",
    "output = model(test_image)\n",
    "predicted_class = output.argmax().item()\n",
    "print(predicted_class*6+1)\n",
    "# Compute Integrated Gradients\n",
    "ig_attributions = integrated_gradients(model, test_image, baseline, target_class=predicted_class, steps=50) # Add batch dimension"
   ]
  },
  {
   "cell_type": "markdown",
   "metadata": {},
   "source": [
    "Remark : \n",
    "\n",
    "- In this example we are using grayscale, so we are only computing the gradient of each pixel on one dimension. In case the input is several dimension, the \n",
    "\n",
    "- One sanity test to run is to test to check the completeness. The completness property is imply by the sensitivity $\\sum_{i=1}^{n}IntegratedGrads(x)=F(x) - F(x')$"
   ]
  }
 ],
 "metadata": {
  "kernelspec": {
   "display_name": "XAI_methods",
   "language": "python",
   "name": "python3"
  },
  "language_info": {
   "codemirror_mode": {
    "name": "ipython",
    "version": 3
   },
   "file_extension": ".py",
   "mimetype": "text/x-python",
   "name": "python",
   "nbconvert_exporter": "python",
   "pygments_lexer": "ipython3",
   "version": "3.13.2"
  }
 },
 "nbformat": 4,
 "nbformat_minor": 2
}
