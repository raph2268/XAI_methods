{
 "cells": [
  {
   "cell_type": "markdown",
   "metadata": {},
   "source": [
    "# SHAP "
   ]
  },
  {
   "cell_type": "markdown",
   "metadata": {},
   "source": [
    "The SHAP (SHapley Additive exPlanations) method offers a framework for leveraging Shapley Values, a concept rooted in **Game Theory**.\n",
    "\n",
    "\n",
    "Let's first create and train a model we want to evaluate \n",
    "  "
   ]
  },
  {
   "cell_type": "markdown",
   "metadata": {},
   "source": [
    "## Imports"
   ]
  },
  {
   "cell_type": "code",
   "execution_count": 1,
   "metadata": {},
   "outputs": [],
   "source": [
    "import torch\n",
    "import torch.nn as nn\n",
    "import torch.optim as optim\n",
    "import torchvision\n",
    "import torchvision.transforms as transforms\n",
    "import matplotlib.pyplot as plt\n",
    "import numpy as np"
   ]
  },
  {
   "cell_type": "markdown",
   "metadata": {},
   "source": [
    "## Data import \n",
    "\n",
    "Let's us MNIST data set. To make our example even more clearer, we will classify only between 1 and 7. Usually the hardest to identify due to there similarity in script wrtting. "
   ]
  },
  {
   "cell_type": "code",
   "execution_count": 2,
   "metadata": {},
   "outputs": [],
   "source": [
    "from torch.utils.data import Dataset\n",
    "from torchvision import datasets, transforms\n",
    "import torch\n",
    "\n",
    "class SubsetMNIST(Dataset):\n",
    "    def __init__(self, original_dataset, classes=[1, 7]):\n",
    "        self.data = []\n",
    "        self.targets = []\n",
    "        \n",
    "        # Define the transformation to convert images to tensors\n",
    "        transform = transforms.Compose([transforms.ToTensor()])\n",
    "        \n",
    "        # Filter dataset to only include the classes you want\n",
    "        for i in range(len(original_dataset)):\n",
    "            img, label = original_dataset[i]\n",
    "            if label in classes:\n",
    "                # Apply the transformation to the image\n",
    "                img = transform(img)\n",
    "                \n",
    "                # Remap labels: 1 -> 0, 7 -> 1\n",
    "                if label == 1:\n",
    "                    label = 0\n",
    "                elif label == 7:\n",
    "                    label = 1\n",
    "                \n",
    "                self.data.append(img)\n",
    "                self.targets.append(label)\n",
    "        \n",
    "        # Convert the list of targets to a tensor\n",
    "        self.targets = torch.tensor(self.targets)\n",
    "\n",
    "    def __getitem__(self, index):\n",
    "        return self.data[index], self.targets[index]\n",
    "\n",
    "    def __len__(self):\n",
    "        return len(self.data)\n",
    "\n",
    "# Load the original MNIST dataset\n",
    "full_train_dataset = datasets.MNIST(root='./data', train=True, download=True)\n",
    "full_test_dataset = datasets.MNIST(root='./data', train=False, download=True)\n",
    "\n",
    "# Create a subset of the MNIST dataset containing only classes 1 and 7\n",
    "train_dataset = SubsetMNIST(full_train_dataset, classes=[1, 7])\n",
    "test_dataset = SubsetMNIST(full_test_dataset, classes=[1, 7])\n",
    "\n",
    "\n",
    "# Create DataLoaders\n",
    "train_loader = torch.utils.data.DataLoader(train_dataset, batch_size=64, shuffle=True)\n"
   ]
  },
  {
   "cell_type": "markdown",
   "metadata": {},
   "source": [
    "## Model :\n",
    "\n",
    "Let's now build our simple CNN model"
   ]
  },
  {
   "cell_type": "code",
   "execution_count": 3,
   "metadata": {},
   "outputs": [],
   "source": [
    "class MNIST_CNN(nn.Module):\n",
    "    def __init__(self):\n",
    "        super(MNIST_CNN, self).__init__()\n",
    "        self.conv1 = nn.Conv2d(1, 16, kernel_size=3, stride=1, padding=1)  # 28x28 -> 28x28\n",
    "        self.conv2 = nn.Conv2d(16, 32, kernel_size=3, stride=1, padding=1)  # 28x28 -> 28x28\n",
    "        self.pool = nn.AvgPool2d(2, 2)  # 28x28 -> 14x14\n",
    "        self.fc1 = nn.Linear(32 * 14 * 14, 2)  # 32 channels * 14x14 spatial size -> 2 classes\n",
    "        self.relu = nn.ReLU()\n",
    "\n",
    "    def forward(self, x):\n",
    "        x = self.conv1(x)\n",
    "        x = self.relu(x)\n",
    "        x = self.conv2(x)\n",
    "        x = self.relu(x)\n",
    "        x = self.pool(x)  # Pooling to reduce the size\n",
    "        x = x.view(x.size(0), -1)  # Flatten the tensor for the fully connected layer\n",
    "        x = self.fc1(x)\n",
    "        return x"
   ]
  },
  {
   "cell_type": "markdown",
   "metadata": {},
   "source": [
    "### Training \n",
    "Let's train it for a few epochs :"
   ]
  },
  {
   "cell_type": "code",
   "execution_count": 4,
   "metadata": {},
   "outputs": [
    {
     "name": "stdout",
     "output_type": "stream",
     "text": [
      "Epoch [1/5], Loss: 0.0613\n",
      "Epoch [2/5], Loss: 0.0141\n",
      "Epoch [3/5], Loss: 0.0130\n",
      "Epoch [4/5], Loss: 0.0122\n",
      "Epoch [5/5], Loss: 0.0095\n",
      "Training complete!\n"
     ]
    }
   ],
   "source": [
    "# Initialize the model, criterion, and optimizer\n",
    "model = MNIST_CNN()\n",
    "criterion = nn.CrossEntropyLoss()\n",
    "optimizer = optim.Adam(model.parameters(), lr=0.001)\n",
    "\n",
    "# Training loop\n",
    "num_epochs = 5  # Set number of epochs as needed\n",
    "\n",
    "for epoch in range(num_epochs):\n",
    "    model.train()\n",
    "    running_loss = 0.0\n",
    "\n",
    "    for images, labels in train_loader:\n",
    "        optimizer.zero_grad()\n",
    "        outputs = model(images)\n",
    "        loss = criterion(outputs, labels)\n",
    "        loss.backward()\n",
    "        optimizer.step()\n",
    "        running_loss += loss.item()\n",
    "\n",
    "    print(f\"Epoch [{epoch+1}/{num_epochs}], Loss: {running_loss/len(train_loader):.4f}\")\n",
    "\n",
    "print(\"Training complete!\")\n"
   ]
  },
  {
   "cell_type": "code",
   "execution_count": 5,
   "metadata": {},
   "outputs": [
    {
     "name": "stdout",
     "output_type": "stream",
     "text": [
      "Accuracy on test set: 99.58%\n"
     ]
    }
   ],
   "source": [
    "correct = 0\n",
    "total = 0\n",
    "test_loader = torch.utils.data.DataLoader(test_dataset, batch_size=5, shuffle=False)\n",
    "\n",
    "with torch.no_grad():  # No gradients needed for evaluation\n",
    "    for images, labels in test_loader:\n",
    "        outputs = model(images)\n",
    "        _, predicted = torch.max(outputs, 1)\n",
    "        total += labels.size(0)\n",
    "        correct += (predicted == labels).sum().item()\n",
    "\n",
    "accuracy = correct / total * 100\n",
    "print(f\"Accuracy on test set: {accuracy:.2f}%\")"
   ]
  },
  {
   "cell_type": "markdown",
   "metadata": {},
   "source": [
    "### Evaluation : \n",
    "\n",
    "Finally let's evaluate to check the robustness of our model"
   ]
  },
  {
   "cell_type": "code",
   "execution_count": 6,
   "metadata": {},
   "outputs": [
    {
     "name": "stdout",
     "output_type": "stream",
     "text": [
      "torch.Size([5, 1, 28, 28])\n"
     ]
    },
    {
     "data": {
      "image/png": "[encoded data removed]",
      "text/plain": [
       "<Figure size 640x480 with 5 Axes>"
      ]
     },
     "metadata": {},
     "output_type": "display_data"
    },
    {
     "name": "stdout",
     "output_type": "stream",
     "text": [
      "Accuracy on test set: 99.58%\n"
     ]
    }
   ],
   "source": [
    "import matplotlib.pyplot as plt\n",
    "\n",
    "# Set model to evaluation mode\n",
    "model.eval()\n",
    "test_loader = torch.utils.data.DataLoader(test_dataset, batch_size=5, shuffle=False)\n",
    "\n",
    "# Get a batch of test data\n",
    "images, labels = next(iter(test_loader))  # Get a batch of images\n",
    "outputs = model(images)\n",
    "print(images.shape)\n",
    "# Get predicted class indices\n",
    "_, predicted = torch.max(outputs, 1)\n",
    "\n",
    "# Plot the first 5 images in the batch with their predicted and true labels\n",
    "for i in range(5):\n",
    "    plt.subplot(1, 5, i+1)\n",
    "    plt.imshow(images[i].squeeze(), cmap=\"gray\")  # squeeze to remove unnecessary dimension\n",
    "    plt.title(f\"Pred: {(predicted[i].item())*6+1} \\n True: {(labels[i].item())*6+1}\")\n",
    "    plt.axis('off')\n",
    "\n",
    "plt.show()\n",
    "\n",
    "# Compute accuracy on the test dataset\n",
    "correct = 0\n",
    "total = 0\n",
    "with torch.no_grad():  # No need to track gradients for evaluation\n",
    "    for images, labels in test_loader:\n",
    "        outputs = model(images)\n",
    "        _, predicted = torch.max(outputs, 1)\n",
    "        total += labels.size(0)\n",
    "        correct += (predicted == labels).sum().item()\n",
    "\n",
    "accuracy = correct / total * 100  # Accuracy as percentage\n",
    "print(f\"Accuracy on test set: {accuracy:.2f}%\")\n",
    "\n"
   ]
  },
  {
   "cell_type": "markdown",
   "metadata": {},
   "source": [
    "We can now check the one that the model struggled with"
   ]
  },
  {
   "cell_type": "code",
   "execution_count": 7,
   "metadata": {},
   "outputs": [
    {
     "data": {
      "text/plain": [
       "torch.Size([1, 28, 28])"
      ]
     },
     "execution_count": 7,
     "metadata": {},
     "output_type": "execute_result"
    }
   ],
   "source": [
    "images[0].shape"
   ]
  },
  {
   "cell_type": "code",
   "execution_count": 8,
   "metadata": {},
   "outputs": [
    {
     "name": "stdout",
     "output_type": "stream",
     "text": [
      "index 237\n",
      "True label:  tensor(7)\n",
      "Pred label:  tensor(1)\n"
     ]
    },
    {
     "data": {
      "image/png": "[encoded data removed]",
      "text/plain": [
       "<Figure size 640x480 with 1 Axes>"
      ]
     },
     "metadata": {},
     "output_type": "display_data"
    },
    {
     "name": "stdout",
     "output_type": "stream",
     "text": [
      "index 278\n",
      "True label:  tensor(7)\n",
      "Pred label:  tensor(1)\n"
     ]
    },
    {
     "data": {
      "image/png": "[encoded data removed]",
      "text/plain": [
       "<Figure size 640x480 with 1 Axes>"
      ]
     },
     "metadata": {},
     "output_type": "display_data"
    },
    {
     "name": "stdout",
     "output_type": "stream",
     "text": [
      "index 286\n",
      "True label:  tensor(7)\n",
      "Pred label:  tensor(1)\n"
     ]
    },
    {
     "data": {
      "image/png": "[encoded data removed]",
      "text/plain": [
       "<Figure size 640x480 with 1 Axes>"
      ]
     },
     "metadata": {},
     "output_type": "display_data"
    },
    {
     "name": "stdout",
     "output_type": "stream",
     "text": [
      "index 329\n",
      "True label:  tensor(7)\n",
      "Pred label:  tensor(1)\n"
     ]
    },
    {
     "data": {
      "image/png": "[encoded data removed]",
      "text/plain": [
       "<Figure size 640x480 with 1 Axes>"
      ]
     },
     "metadata": {},
     "output_type": "display_data"
    },
    {
     "name": "stdout",
     "output_type": "stream",
     "text": [
      "index 662\n",
      "True label:  tensor(1)\n",
      "Pred label:  tensor(7)\n"
     ]
    },
    {
     "data": {
      "image/png": "[encoded data removed]",
      "text/plain": [
       "<Figure size 640x480 with 1 Axes>"
      ]
     },
     "metadata": {},
     "output_type": "display_data"
    },
    {
     "name": "stdout",
     "output_type": "stream",
     "text": [
      "index 834\n",
      "True label:  tensor(7)\n",
      "Pred label:  tensor(1)\n"
     ]
    },
    {
     "data": {
      "image/png": "[encoded data removed]",
      "text/plain": [
       "<Figure size 640x480 with 1 Axes>"
      ]
     },
     "metadata": {},
     "output_type": "display_data"
    },
    {
     "name": "stdout",
     "output_type": "stream",
     "text": [
      "index 856\n",
      "True label:  tensor(7)\n",
      "Pred label:  tensor(1)\n"
     ]
    },
    {
     "data": {
      "image/png": "[encoded data removed]",
      "text/plain": [
       "<Figure size 640x480 with 1 Axes>"
      ]
     },
     "metadata": {},
     "output_type": "display_data"
    },
    {
     "name": "stdout",
     "output_type": "stream",
     "text": [
      "index 946\n",
      "True label:  tensor(7)\n",
      "Pred label:  tensor(1)\n"
     ]
    },
    {
     "data": {
      "image/png": "[encoded data removed]",
      "text/plain": [
       "<Figure size 640x480 with 1 Axes>"
      ]
     },
     "metadata": {},
     "output_type": "display_data"
    },
    {
     "name": "stdout",
     "output_type": "stream",
     "text": [
      "index 1411\n",
      "True label:  tensor(7)\n",
      "Pred label:  tensor(1)\n"
     ]
    },
    {
     "data": {
      "image/png": "[encoded data removed]",
      "text/plain": [
       "<Figure size 640x480 with 1 Axes>"
      ]
     },
     "metadata": {},
     "output_type": "display_data"
    }
   ],
   "source": [
    "test_all = torch.utils.data.DataLoader(test_dataset, batch_size=len(test_dataset), shuffle=False)\n",
    "wrong_label =[]\n",
    "with torch.no_grad():  # No need to track gradients for evaluation\n",
    "    for images, labels in test_all:\n",
    "        outputs = model(images)\n",
    "        _, predicted = torch.max(outputs, 1)\n",
    "        for i in range(len(images)):\n",
    "            if (predicted [i] != labels[i]) : \n",
    "                print('index', i)\n",
    "                print('True label: ', labels[i]*6+1)\n",
    "                print('Pred label: ', predicted[i]*6+1)\n",
    "                wrong_label.append(i)\n",
    "                plt.imshow(images[i].squeeze(), cmap=\"gray\")\n",
    "            \n",
    "                plt.show()"
   ]
  },
  {
   "cell_type": "markdown",
   "metadata": {},
   "source": [
    "## SHAP"
   ]
  },
  {
   "cell_type": "markdown",
   "metadata": {},
   "source": [
    "### Shapley value \n",
    "\n",
    "In game theory, **Shapley Values represent the contribution $\\phi_i$ of a player $i$ within a coalition $S$ by comparing the outcomes of scenarios where the player is present  $v(S \\cup \\{i\\})$ versus absent $v(S)$**.\n",
    "\\begin{equation}\n",
    "  \\phi_i = \\sum_{S \\subseteq N \\setminus \\{i\\}} \\frac{|S|! \\, (|N| - |S| - 1)!}{|N|!} \\, \\left[ v(S \\cup \\{i\\}) - v(S) \\right]\n",
    "\\end{equation}\n",
    "\n",
    "Applied to XAI, this involves computing the difference in model outputs between these scenarios, but ends up being difficulte to compute in most real applications due to the high dimensionality of the data.\n"
   ]
  },
  {
   "cell_type": "code",
   "execution_count": 9,
   "metadata": {},
   "outputs": [
    {
     "data": {
      "text/plain": [
       "101745825697019260773923519755878567461315282017759829107608914364075275235254395622580447400994175578963163918967182013639660669771108475957692810857098847138903161308502419410142185759152435680068435915159402496058513611411689167650816"
      ]
     },
     "execution_count": 9,
     "metadata": {},
     "output_type": "execute_result"
    }
   ],
   "source": [
    "pow(2,28*28)"
   ]
  },
  {
   "cell_type": "markdown",
   "metadata": {},
   "source": [
    "This is the number of coalition we would have to compute to assess the contribution of each pixel. \n",
    "\n",
    "Here we explored two naive approaches : \n",
    "- 1 : We gather image into a  4x4 images\n",
    "- 2 : We take a sample randomly an amount of coalition that we assume could approximate the effect of each pixel"
   ]
  },
  {
   "cell_type": "markdown",
   "metadata": {},
   "source": [
    "#### 1: Using 4X4 patches"
   ]
  },
  {
   "cell_type": "code",
   "execution_count": 10,
   "metadata": {},
   "outputs": [],
   "source": [
    "import random\n",
    "from itertools import combinations\n",
    "import math\n",
    "\n",
    "def power_set(iterable, num_sets=None):\n",
    "    if num_sets == None :\n",
    "        \"\"\"Generate all subsets of a given iterable, excluding full set.\"\"\"\n",
    "        s = list(iterable)\n",
    "        return [set(comb) for r in range(1, len(s)) for comb in combinations(s, r)]\n",
    "\n",
    "    else : \n",
    "        \"\"\"Generate a fixed number of random subsets of a given iterable, excluding the full set.\"\"\"\n",
    "\n",
    "        s = list(iterable)\n",
    "        subsets = set()\n",
    "        \n",
    "        # Keep generating random subsets until we have the desired number\n",
    "        while len(subsets) < num_sets:\n",
    "            r = random.randint(0, len(s)-1)  # Random size of subset (excluding the full set)\n",
    "            random_subset = set(random.sample(s, r))\n",
    "            \n",
    "            if random_subset not in subsets:\n",
    "                subsets.add(frozenset(random_subset))  # Use frozenset to avoid duplicates\n",
    "        \n",
    "    return [set(subset) for subset in subsets]\n"
   ]
  },
  {
   "cell_type": "code",
   "execution_count": 15,
   "metadata": {},
   "outputs": [],
   "source": [
    "# Function to display the segmented image with 16 parts\n",
    "def display_segmented_image(image, activation_mask):\n",
    "    \"\"\"\n",
    "    Display the segmented image where each segment is activated/deactivated based on the mask.\n",
    "    \n",
    "    Parameters:\n",
    "        image: numpy array of shape (28, 28) representing the grayscale image\n",
    "        activation_mask: numpy array of shape (16,) where each element is 1 (active) or 0 (inactive)\n",
    "    \"\"\"\n",
    "    # Create a copy of the image to modify based on activation\n",
    "    modified_image = np.zeros_like(image)\n",
    "    \n",
    "    row_size = 7 \n",
    "    col_size = 7  \n",
    "    \n",
    "    for i in range(4): \n",
    "        for j in range(4):  \n",
    "            # Check if the segment is activated (1) or deactivated (0)\n",
    "            part_index = i * 4 + j\n",
    "            if activation_mask[part_index] == 1:\n",
    "                # Activate the segment, keeping original values from the image\n",
    "                modified_image[i*row_size:(i+1)*row_size, j*col_size:(j+1)*col_size] = \\\n",
    "                    image[i*row_size:(i+1)*row_size, j*col_size:(j+1)*col_size]\n",
    "    return modified_image\n",
    "\n",
    "def create_binary_list(indices, size=16):\n",
    "    binary_list = [0] * size  \n",
    "    for i in indices:\n",
    "        if 0 <= i < size:  \n",
    "            binary_list[i] = 1\n",
    "    return binary_list"
   ]
  },
  {
   "cell_type": "code",
   "execution_count": 4,
   "metadata": {},
   "outputs": [
    {
     "name": "stdout",
     "output_type": "stream",
     "text": [
      "65534\n"
     ]
    },
    {
     "ename": "NameError",
     "evalue": "name 'images' is not defined",
     "output_type": "error",
     "traceback": [
      "\u001b[31m---------------------------------------------------------------------------\u001b[39m",
      "\u001b[31mNameError\u001b[39m                                 Traceback (most recent call last)",
      "\u001b[36mCell\u001b[39m\u001b[36m \u001b[39m\u001b[32mIn[4]\u001b[39m\u001b[32m, line 4\u001b[39m\n\u001b[32m      2\u001b[39m \u001b[38;5;28mprint\u001b[39m(\u001b[38;5;28mlen\u001b[39m(sets))\n\u001b[32m      3\u001b[39m \u001b[38;5;66;03m# Example image: Random 28x28 grayscale image \u001b[39;00m\n\u001b[32m----> \u001b[39m\u001b[32m4\u001b[39m image = \u001b[43mimages\u001b[49m[\u001b[32m237\u001b[39m].squeeze()\n\u001b[32m      5\u001b[39m binary_set = create_binary_list(sets[\u001b[32m0\u001b[39m])\u001b[38;5;66;03m# Display the original and segmented image\u001b[39;00m\n\u001b[32m      6\u001b[39m \u001b[38;5;28mprint\u001b[39m(\u001b[33m\"\u001b[39m\u001b[33mActivation Mask: \u001b[39m\u001b[33m\"\u001b[39m, binary_set)\n",
      "\u001b[31mNameError\u001b[39m: name 'images' is not defined"
     ]
    }
   ],
   "source": [
    "sets = power_set(set(range(16)))\n",
    "print(len(sets))\n",
    "# Example image: Random 28x28 grayscale image \n",
    "image = images[237].squeeze()\n",
    "binary_set = create_binary_list(sets[0])# Display the original and segmented image\n",
    "print(\"Activation Mask: \", binary_set)\n",
    "modified_image = display_segmented_image(image, binary_set)\n",
    "plt.imshow(modified_image, cmap='gray')\n",
    "plt.title('Segmented Image (Activated/Deactivated)')\n",
    "plt.axis('off')\n",
    "plt.show()"
   ]
  },
  {
   "cell_type": "markdown",
   "metadata": {},
   "source": [
    "We still deal with 65k sets.\n",
    "\n",
    "Each set is a version of the image. For each part of the image (block of 7x7 pixels), we look at the difference of model ouput on each coalition. \n",
    "\n",
    "We then weight it using the Shapley Value formula : \n",
    "\n",
    "\\begin{equation}\n",
    "\\frac{|S|! \\, (|N| - |S| - 1)!}{|N|!}\n",
    "\\end{equation}"
   ]
  },
  {
   "cell_type": "code",
   "execution_count": null,
   "metadata": {},
   "outputs": [
    {
     "data": {
      "text/plain": [
       "<matplotlib.image.AxesImage at 0x7f57dc0c3890>"
      ]
     },
     "execution_count": 13,
     "metadata": {},
     "output_type": "execute_result"
    },
    {
     "data": {
      "image/png": "[encoded data removed]",
      "text/plain": [
       "<Figure size 640x480 with 1 Axes>"
      ]
     },
     "metadata": {},
     "output_type": "display_data"
    }
   ],
   "source": [
    "image = images[329].squeeze()\n",
    "\n",
    "plt.imshow(image.reshape(28,28))"
   ]
  },
  {
   "cell_type": "code",
   "execution_count": null,
   "metadata": {},
   "outputs": [
    {
     "name": "stderr",
     "output_type": "stream",
     "text": [
      "/tmp/ipykernel_269968/2774494647.py:22: DeprecationWarning: __array__ implementation doesn't accept a copy keyword, so passing copy=False failed. __array__ must implement 'dtype' and 'copy' keyword arguments.\n",
      "  modified_image[i*row_size:(i+1)*row_size, j*col_size:(j+1)*col_size] = \\\n"
     ]
    },
    {
     "name": "stdout",
     "output_type": "stream",
     "text": [
      "0th x done\n",
      "1th x done\n",
      "2th x done\n",
      "3th x done\n",
      "4th x done\n",
      "5th x done\n",
      "6th x done\n",
      "7th x done\n",
      "8th x done\n",
      "9th x done\n",
      "10th x done\n",
      "11th x done\n",
      "12th x done\n",
      "13th x done\n",
      "14th x done\n",
      "15th x done\n"
     ]
    }
   ],
   "source": [
    "n = 16\n",
    "shapley_vals = np.zeros(n)\n",
    "accuracy_subset = []\n",
    "all_subset = []\n",
    "subsets = power_set(set(range(n)), 10000)\n",
    "class_assessed = 0 #Measuring the contribution of being in class 0 ---> NUMBER 1\n",
    "\n",
    "for i in range(n):\n",
    "    \n",
    "    for subset in subsets:\n",
    "        if i in subset: \n",
    "            subset_with_i = list(subset) \n",
    "            subset_without_i = subset\n",
    "            subset_without_i.discard(i) \n",
    "        else : \n",
    "            subset_without_i = list(subset) \n",
    "            subset_with_i = list(subset) + [i]\n",
    "\n",
    "        weight = (math.factorial(len(subset_without_i)) * math.factorial(n - len(subset_without_i) - 1)) / math.factorial(n)# check len of subset\n",
    "\n",
    "\n",
    "        image_activated = display_segmented_image(image, create_binary_list(subset_with_i))\n",
    "        image_deactivated = display_segmented_image(image, create_binary_list(subset_without_i))\n",
    "        image_activated = np.expand_dims(image_activated, axis=0)\n",
    "        image_deactivated = np.expand_dims(image_deactivated, axis=0)\n",
    "        v_S_i = model(torch.tensor(np.expand_dims(image_activated, axis=0)))[0][class_assessed].item()   \n",
    "        v_S = model(torch.tensor(np.expand_dims(image_deactivated, axis=0)))[0][class_assessed].item()\n",
    "\n",
    "        if v_S_i<0: \n",
    "            accuracy_subset.append(0)\n",
    "        else: accuracy_subset.append(1)\n",
    "\n",
    "        all_subset.append(len(subset))\n",
    "\n",
    "        # Compute marginal contribution\n",
    "        shapley_vals[i] += weight * (v_S_i - v_S)\n",
    "\n",
    "\n",
    "    accuracy = correct / total * 100\n",
    "    print(f\"{i}th x done\")\n",
    "\n"
   ]
  },
  {
   "cell_type": "markdown",
   "metadata": {},
   "source": [
    " The following plot is mostly here as a sanity check: \n",
    "\n",
    " What it shows is that the more the image has region activated, the more the "
   ]
  },
  {
   "cell_type": "code",
   "execution_count": null,
   "metadata": {},
   "outputs": [
    {
     "data": {
      "text/plain": [
       "[]"
      ]
     },
     "execution_count": 16,
     "metadata": {},
     "output_type": "execute_result"
    },
    {
     "data": {
      "image/png": "[encoded data removed]",
      "text/plain": [
       "<Figure size 640x480 with 1 Axes>"
      ]
     },
     "metadata": {},
     "output_type": "display_data"
    }
   ],
   "source": [
    "length_to_sum = {}  # Stores sum of values for each length\n",
    "length_to_count = {}  # Stores count of occurrences for each length\n",
    "\n",
    "# Group sums and counts by length\n",
    "for length, value in zip(all_subset, accuracy_subset):\n",
    "    if length in length_to_sum:\n",
    "        length_to_sum[length] += value\n",
    "        length_to_count[length] += 1\n",
    "    else:\n",
    "        length_to_sum[length] = value\n",
    "        length_to_count[length] = 1\n",
    "\n",
    "# Compute mean for each length\n",
    "mean_by_length = {length: length_to_sum[length] / length_to_count[length] for length in length_to_sum}\n",
    "\n",
    "plt.scatter(mean_by_length.keys(),mean_by_length.values())\n",
    "plt.xlabel('Subset lenght')\n",
    "plt.ylabel('Accuracy of the subset')\n",
    "plt.title('mean accuracy for the number of subset activated')\n",
    "plt.xticks(range(0,18))\n",
    "plt.grid()\n",
    "plt.plot()"
   ]
  },
  {
   "cell_type": "code",
   "execution_count": null,
   "metadata": {},
   "outputs": [
    {
     "data": {
      "text/plain": [
       "array([0.03115395, 0.        , 0.0130964 , 0.03115395, 0.03115395,\n",
       "       0.08321016, 0.08511388, 0.03115395, 0.03115395, 0.35646196,\n",
       "       1.        , 0.03115395, 0.03115395, 0.96644478, 0.03115395,\n",
       "       0.03115395])"
      ]
     },
     "execution_count": 17,
     "metadata": {},
     "output_type": "execute_result"
    }
   ],
   "source": [
    "shapley_vals\n",
    "normalized_arr = (shapley_vals - np.min(shapley_vals)) / (np.max(shapley_vals) - np.min(shapley_vals))\n",
    "normalized_arr \n"
   ]
  },
  {
   "cell_type": "code",
   "execution_count": null,
   "metadata": {},
   "outputs": [
    {
     "data": {
      "image/png": "[encoded data removed]",
      "text/plain": [
       "<Figure size 600x600 with 2 Axes>"
      ]
     },
     "metadata": {},
     "output_type": "display_data"
    }
   ],
   "source": [
    "fig, ax = plt.subplots(figsize=(6, 6))\n",
    "region_values = normalized_arr.reshape(4,4)\n",
    "# Display the MNIST image\n",
    "ax.imshow(image, cmap='gray', interpolation='nearest')\n",
    "\n",
    "# Now, overlay the heatmap\n",
    "# Scale the region_values to match the dimensions of the MNIST image\n",
    "heatmap = np.kron(region_values, np.ones((7, 7)))  # Repeat the region values to match the 28x28 grid\n",
    "\n",
    "# Overlay the heatmap with a transparent colormap\n",
    "# You can adjust alpha for transparency\n",
    "ax.imshow(heatmap, cmap='hot', alpha=0.2)\n",
    "\n",
    "# Show the plot\n",
    "plt.colorbar(ax.imshow(heatmap, cmap='hot', alpha=0.5), ax=ax)  # Add colorbar for the heatmap\n",
    "plt.show()"
   ]
  },
  {
   "cell_type": "markdown",
   "metadata": {},
   "source": [
    "#### 2: Using each pixel\n"
   ]
  },
  {
   "cell_type": "code",
   "execution_count": null,
   "metadata": {},
   "outputs": [
    {
     "name": "stdout",
     "output_type": "stream",
     "text": [
      "torch.Size([28, 28])\n"
     ]
    },
    {
     "data": {
      "text/plain": [
       "<matplotlib.image.AxesImage at 0x7f57bd464190>"
      ]
     },
     "execution_count": 19,
     "metadata": {},
     "output_type": "execute_result"
    },
    {
     "data": {
      "image/png": "[encoded data removed]",
      "text/plain": [
       "<Figure size 640x480 with 1 Axes>"
      ]
     },
     "metadata": {},
     "output_type": "display_data"
    }
   ],
   "source": [
    "image = images[329].squeeze()\n",
    "print(image.shape)\n",
    "plt.imshow(image)"
   ]
  },
  {
   "cell_type": "code",
   "execution_count": 18,
   "metadata": {},
   "outputs": [
    {
     "name": "stdout",
     "output_type": "stream",
     "text": [
      "{0, 1, 2, 3, 4, 5, 6, 7, 8, 9, 10, 11, 12, 13, 14, 15, 16, 17, 18, 19, 20, 21, 23, 24, 25, 26, 27, 28, 29, 30, 31, 32, 33, 34, 35, 36, 37, 38, 39, 40, 41, 42, 43, 44, 45, 46, 47, 48, 49, 50, 52, 53, 54, 55, 56, 57, 58, 59, 60, 61, 63, 64, 65, 66, 67, 68, 69, 70, 71, 72, 73, 74, 75, 76, 77, 78, 79, 80, 81, 82, 83, 84, 85, 86, 87, 88, 89, 90, 91, 92, 93, 94, 95, 96, 97, 98, 99, 100, 101, 102, 103, 104, 105, 106, 107, 108, 109, 110, 111, 112, 113, 114, 115, 116, 117, 118, 119, 120, 121, 122, 123, 124, 125, 126, 127, 128, 129, 130, 131, 133, 134, 135, 136, 137, 138, 140, 141, 142, 143, 144, 145, 146, 147, 148, 149, 150, 151, 152, 153, 154, 155, 156, 157, 158, 159, 161, 162, 163, 164, 165, 166, 167, 168, 169, 170, 172, 173, 174, 175, 176, 177, 178, 179, 180, 181, 182, 183, 184, 185, 186, 187, 188, 189, 190, 191, 192, 193, 194, 196, 197, 198, 199, 200, 201, 202, 203, 204, 205, 206, 207, 208, 209, 210, 211, 212, 213, 214, 215, 216, 217, 218, 219, 220, 221, 222, 223, 225, 226, 227, 228, 229, 230, 231, 232, 233, 234, 235, 236, 237, 238, 239, 240, 241, 242, 243, 244, 245, 246, 247, 248, 249, 250, 251, 253, 254, 255, 256, 257, 258, 259, 260, 261, 262, 263, 264, 265, 266, 267, 268, 269, 270, 271, 272, 273, 274, 275, 276, 277, 278, 279, 280, 281, 282, 283, 284, 285, 286, 287, 288, 289, 290, 291, 292, 294, 295, 296, 297, 298, 299, 300, 301, 302, 303, 304, 305, 306, 307, 308, 310, 311, 312, 313, 314, 315, 316, 317, 318, 319, 320, 321, 322, 323, 324, 325, 326, 327, 328, 329, 330, 331, 332, 333, 334, 335, 336, 337, 338, 339, 340, 341, 342, 344, 345, 346, 347, 348, 349, 350, 351, 352, 355, 356, 357, 358, 359, 360, 361, 364, 365, 366, 367, 368, 369, 371, 372, 373, 374, 375, 376, 377, 378, 379, 380, 381, 382, 383, 384, 385, 386, 387, 388, 389, 390, 391, 392, 393, 394, 395, 396, 397, 398, 399, 400, 401, 402, 403, 404, 405, 406, 408, 409, 410, 411, 412, 413, 414, 415, 416, 417, 418, 419, 420, 421, 422, 423, 424, 425, 426, 428, 429, 430, 431, 432, 433, 434, 435, 436, 437, 438, 439, 440, 441, 442, 444, 445, 446, 447, 448, 449, 450, 451, 452, 453, 454, 455, 456, 457, 458, 459, 460, 461, 462, 463, 464, 465, 466, 467, 468, 469, 470, 471, 472, 474, 475, 476, 477, 478, 479, 480, 482, 483, 484, 485, 486, 487, 488, 489, 490, 491, 492, 493, 494, 495, 496, 497, 498, 499, 500, 501, 502, 503, 504, 505, 506, 507, 508, 510, 511, 512, 513, 514, 515, 516, 517, 518, 519, 520, 521, 522, 523, 524, 525, 526, 527, 528, 529, 530, 531, 532, 533, 534, 535, 536, 537, 538, 539, 540, 541, 542, 543, 544, 545, 546, 547, 548, 549, 551, 552, 553, 554, 555, 556, 557, 558, 559, 560, 562, 563, 564, 566, 567, 568, 569, 570, 571, 572, 573, 574, 575, 577, 578, 579, 580, 581, 582, 583, 584, 585, 586, 587, 588, 589, 590, 591, 592, 593, 594, 595, 596, 597, 598, 599, 600, 601, 602, 603, 604, 605, 606, 607, 608, 609, 610, 611, 612, 613, 614, 615, 616, 617, 618, 619, 620, 621, 622, 623, 624, 625, 626, 627, 628, 629, 630, 631, 632, 633, 634, 635, 636, 637, 638, 639, 640, 641, 642, 643, 644, 645, 646, 647, 648, 649, 650, 651, 652, 653, 654, 656, 657, 659, 660, 661, 662, 663, 664, 665, 666, 667, 668, 669, 671, 672, 673, 674, 675, 676, 677, 678, 679, 680, 681, 682, 683, 684, 686, 687, 688, 689, 690, 691, 692, 693, 694, 695, 696, 697, 698, 699, 700, 701, 702, 703, 704, 706, 707, 708, 709, 710, 711, 712, 713, 714, 715, 716, 717, 718, 719, 720, 721, 722, 723, 724, 725, 726, 727, 728, 729, 730, 731, 732, 733, 734, 735, 736, 737, 738, 739, 740, 741, 742, 743, 744, 745, 746, 747, 748, 749, 750, 751, 753, 754, 755, 756, 758, 760, 761, 763, 764, 765, 766, 767, 768, 769, 770, 771, 772, 773, 774, 775, 776, 777, 778, 779, 780, 781, 782, 783}\n"
     ]
    },
    {
     "data": {
      "text/plain": [
       "<matplotlib.image.AxesImage at 0x7fe0a281b4d0>"
      ]
     },
     "execution_count": 18,
     "metadata": {},
     "output_type": "execute_result"
    },
    {
     "data": {
      "image/png": "[encoded data removed]",
      "text/plain": [
       "<Figure size 640x480 with 1 Axes>"
      ]
     },
     "metadata": {},
     "output_type": "display_data"
    }
   ],
   "source": [
    "n = 28*28\n",
    "\n",
    "subsets = power_set(set(range(n)), 1000)\n",
    "print(subsets[0])\n",
    "bin_list = create_binary_list(subsets[0], n)\n",
    "def mask_pixel(image, index_list): \n",
    "    modified_image = image.clone()\n",
    "    for i in range(28):\n",
    "        for j in range(28):\n",
    "            index = i * 28 + j\n",
    "            if index_list[index] == 0:\n",
    "                modified_image[i, j] = 0\n",
    "    return modified_image\n",
    "    \n",
    "\n",
    "plt.imshow(mask_pixel(image, bin_list))"
   ]
  },
  {
   "cell_type": "code",
   "execution_count": null,
   "metadata": {},
   "outputs": [
    {
     "name": "stdout",
     "output_type": "stream",
     "text": [
      "0th x done\n",
      "1th x done\n",
      "2th x done\n",
      "3th x done\n",
      "4th x done\n",
      "5th x done\n",
      "6th x done\n",
      "7th x done\n",
      "8th x done\n",
      "9th x done\n",
      "10th x done\n",
      "11th x done\n",
      "12th x done\n",
      "13th x done\n",
      "14th x done\n",
      "15th x done\n",
      "16th x done\n",
      "17th x done\n",
      "18th x done\n",
      "19th x done\n",
      "20th x done\n",
      "21th x done\n",
      "22th x done\n",
      "23th x done\n",
      "24th x done\n",
      "25th x done\n",
      "26th x done\n",
      "27th x done\n",
      "28th x done\n",
      "29th x done\n",
      "30th x done\n",
      "31th x done\n",
      "32th x done\n",
      "33th x done\n",
      "34th x done\n",
      "35th x done\n",
      "36th x done\n",
      "37th x done\n",
      "38th x done\n",
      "39th x done\n",
      "40th x done\n",
      "41th x done\n",
      "42th x done\n",
      "43th x done\n",
      "44th x done\n",
      "45th x done\n",
      "46th x done\n",
      "47th x done\n",
      "48th x done\n",
      "49th x done\n",
      "50th x done\n",
      "51th x done\n",
      "52th x done\n",
      "53th x done\n",
      "54th x done\n",
      "55th x done\n",
      "56th x done\n",
      "57th x done\n",
      "58th x done\n",
      "59th x done\n",
      "60th x done\n",
      "61th x done\n",
      "62th x done\n",
      "63th x done\n",
      "64th x done\n",
      "65th x done\n",
      "66th x done\n",
      "67th x done\n",
      "68th x done\n",
      "69th x done\n",
      "70th x done\n",
      "71th x done\n",
      "72th x done\n",
      "73th x done\n",
      "74th x done\n",
      "75th x done\n",
      "76th x done\n",
      "77th x done\n",
      "78th x done\n",
      "79th x done\n",
      "80th x done\n",
      "81th x done\n",
      "82th x done\n",
      "83th x done\n",
      "84th x done\n",
      "85th x done\n",
      "86th x done\n",
      "87th x done\n",
      "88th x done\n",
      "89th x done\n",
      "90th x done\n",
      "91th x done\n",
      "92th x done\n",
      "93th x done\n",
      "94th x done\n",
      "95th x done\n",
      "96th x done\n",
      "97th x done\n",
      "98th x done\n",
      "99th x done\n",
      "100th x done\n",
      "101th x done\n",
      "102th x done\n",
      "103th x done\n",
      "104th x done\n",
      "105th x done\n",
      "106th x done\n",
      "107th x done\n",
      "108th x done\n",
      "109th x done\n",
      "110th x done\n",
      "111th x done\n",
      "112th x done\n",
      "113th x done\n",
      "114th x done\n",
      "115th x done\n",
      "116th x done\n",
      "117th x done\n",
      "118th x done\n",
      "119th x done\n",
      "120th x done\n",
      "121th x done\n",
      "122th x done\n",
      "123th x done\n",
      "124th x done\n",
      "125th x done\n",
      "126th x done\n",
      "127th x done\n",
      "128th x done\n",
      "129th x done\n",
      "130th x done\n",
      "131th x done\n",
      "132th x done\n",
      "133th x done\n",
      "134th x done\n",
      "135th x done\n",
      "136th x done\n",
      "137th x done\n",
      "138th x done\n",
      "139th x done\n",
      "140th x done\n",
      "141th x done\n",
      "142th x done\n",
      "143th x done\n",
      "144th x done\n",
      "145th x done\n",
      "146th x done\n",
      "147th x done\n",
      "148th x done\n",
      "149th x done\n",
      "150th x done\n",
      "151th x done\n",
      "152th x done\n",
      "153th x done\n",
      "154th x done\n",
      "155th x done\n",
      "156th x done\n",
      "157th x done\n",
      "158th x done\n",
      "159th x done\n",
      "160th x done\n",
      "161th x done\n",
      "162th x done\n",
      "163th x done\n",
      "164th x done\n",
      "165th x done\n",
      "166th x done\n",
      "167th x done\n",
      "168th x done\n",
      "169th x done\n",
      "170th x done\n",
      "171th x done\n",
      "172th x done\n",
      "173th x done\n",
      "174th x done\n",
      "175th x done\n",
      "176th x done\n",
      "177th x done\n",
      "178th x done\n",
      "179th x done\n",
      "180th x done\n",
      "181th x done\n",
      "182th x done\n",
      "183th x done\n",
      "184th x done\n",
      "185th x done\n",
      "186th x done\n",
      "187th x done\n",
      "188th x done\n",
      "189th x done\n",
      "190th x done\n",
      "191th x done\n",
      "192th x done\n",
      "193th x done\n",
      "194th x done\n",
      "195th x done\n",
      "196th x done\n",
      "197th x done\n",
      "198th x done\n",
      "199th x done\n",
      "200th x done\n",
      "201th x done\n",
      "202th x done\n",
      "203th x done\n",
      "204th x done\n",
      "205th x done\n",
      "206th x done\n",
      "207th x done\n",
      "208th x done\n",
      "209th x done\n",
      "210th x done\n",
      "211th x done\n",
      "212th x done\n",
      "213th x done\n",
      "214th x done\n",
      "215th x done\n",
      "216th x done\n",
      "217th x done\n",
      "218th x done\n",
      "219th x done\n",
      "220th x done\n",
      "221th x done\n",
      "222th x done\n",
      "223th x done\n",
      "224th x done\n",
      "225th x done\n",
      "226th x done\n",
      "227th x done\n",
      "228th x done\n",
      "229th x done\n",
      "230th x done\n",
      "231th x done\n",
      "232th x done\n",
      "233th x done\n",
      "234th x done\n",
      "235th x done\n",
      "236th x done\n",
      "237th x done\n",
      "238th x done\n",
      "239th x done\n",
      "240th x done\n",
      "241th x done\n",
      "242th x done\n",
      "243th x done\n",
      "244th x done\n",
      "245th x done\n",
      "246th x done\n",
      "247th x done\n",
      "248th x done\n",
      "249th x done\n",
      "250th x done\n",
      "251th x done\n",
      "252th x done\n",
      "253th x done\n",
      "254th x done\n",
      "255th x done\n",
      "256th x done\n",
      "257th x done\n",
      "258th x done\n",
      "259th x done\n",
      "260th x done\n",
      "261th x done\n",
      "262th x done\n",
      "263th x done\n",
      "264th x done\n",
      "265th x done\n",
      "266th x done\n",
      "267th x done\n",
      "268th x done\n",
      "269th x done\n",
      "270th x done\n",
      "271th x done\n",
      "272th x done\n",
      "273th x done\n",
      "274th x done\n",
      "275th x done\n",
      "276th x done\n",
      "277th x done\n",
      "278th x done\n",
      "279th x done\n",
      "280th x done\n",
      "281th x done\n",
      "282th x done\n",
      "283th x done\n",
      "284th x done\n",
      "285th x done\n",
      "286th x done\n",
      "287th x done\n",
      "288th x done\n",
      "289th x done\n",
      "290th x done\n",
      "291th x done\n",
      "292th x done\n",
      "293th x done\n",
      "294th x done\n",
      "295th x done\n",
      "296th x done\n",
      "297th x done\n",
      "298th x done\n",
      "299th x done\n",
      "300th x done\n",
      "301th x done\n",
      "302th x done\n",
      "303th x done\n",
      "304th x done\n",
      "305th x done\n",
      "306th x done\n",
      "307th x done\n",
      "308th x done\n",
      "309th x done\n",
      "310th x done\n",
      "311th x done\n",
      "312th x done\n",
      "313th x done\n",
      "314th x done\n",
      "315th x done\n",
      "316th x done\n",
      "317th x done\n",
      "318th x done\n",
      "319th x done\n",
      "320th x done\n",
      "321th x done\n",
      "322th x done\n",
      "323th x done\n",
      "324th x done\n",
      "325th x done\n",
      "326th x done\n",
      "327th x done\n",
      "328th x done\n",
      "329th x done\n",
      "330th x done\n",
      "331th x done\n",
      "332th x done\n",
      "333th x done\n",
      "334th x done\n",
      "335th x done\n",
      "336th x done\n",
      "337th x done\n",
      "338th x done\n",
      "339th x done\n",
      "340th x done\n",
      "341th x done\n",
      "342th x done\n",
      "343th x done\n",
      "344th x done\n",
      "345th x done\n",
      "346th x done\n",
      "347th x done\n",
      "348th x done\n",
      "349th x done\n",
      "350th x done\n",
      "351th x done\n",
      "352th x done\n",
      "353th x done\n",
      "354th x done\n",
      "355th x done\n",
      "356th x done\n",
      "357th x done\n",
      "358th x done\n",
      "359th x done\n",
      "360th x done\n",
      "361th x done\n",
      "362th x done\n",
      "363th x done\n",
      "364th x done\n",
      "365th x done\n",
      "366th x done\n",
      "367th x done\n",
      "368th x done\n",
      "369th x done\n",
      "370th x done\n",
      "371th x done\n",
      "372th x done\n",
      "373th x done\n",
      "374th x done\n",
      "375th x done\n",
      "376th x done\n",
      "377th x done\n",
      "378th x done\n",
      "379th x done\n",
      "380th x done\n",
      "381th x done\n",
      "382th x done\n",
      "383th x done\n",
      "384th x done\n",
      "385th x done\n",
      "386th x done\n",
      "387th x done\n",
      "388th x done\n",
      "389th x done\n",
      "390th x done\n",
      "391th x done\n",
      "392th x done\n",
      "393th x done\n",
      "394th x done\n",
      "395th x done\n",
      "396th x done\n",
      "397th x done\n",
      "398th x done\n",
      "399th x done\n",
      "400th x done\n",
      "401th x done\n",
      "402th x done\n",
      "403th x done\n",
      "404th x done\n",
      "405th x done\n",
      "406th x done\n",
      "407th x done\n",
      "408th x done\n",
      "409th x done\n",
      "410th x done\n",
      "411th x done\n",
      "412th x done\n",
      "413th x done\n",
      "414th x done\n",
      "415th x done\n",
      "416th x done\n",
      "417th x done\n",
      "418th x done\n",
      "419th x done\n",
      "420th x done\n",
      "421th x done\n",
      "422th x done\n",
      "423th x done\n",
      "424th x done\n",
      "425th x done\n",
      "426th x done\n",
      "427th x done\n",
      "428th x done\n",
      "429th x done\n",
      "430th x done\n",
      "431th x done\n",
      "432th x done\n",
      "433th x done\n",
      "434th x done\n",
      "435th x done\n",
      "436th x done\n",
      "437th x done\n",
      "438th x done\n",
      "439th x done\n",
      "440th x done\n",
      "441th x done\n",
      "442th x done\n",
      "443th x done\n",
      "444th x done\n",
      "445th x done\n",
      "446th x done\n",
      "447th x done\n",
      "448th x done\n",
      "449th x done\n",
      "450th x done\n",
      "451th x done\n",
      "452th x done\n",
      "453th x done\n",
      "454th x done\n",
      "455th x done\n",
      "456th x done\n",
      "457th x done\n",
      "458th x done\n",
      "459th x done\n",
      "460th x done\n",
      "461th x done\n",
      "462th x done\n",
      "463th x done\n",
      "464th x done\n",
      "465th x done\n",
      "466th x done\n",
      "467th x done\n",
      "468th x done\n",
      "469th x done\n",
      "470th x done\n",
      "471th x done\n",
      "472th x done\n",
      "473th x done\n",
      "474th x done\n",
      "475th x done\n",
      "476th x done\n",
      "477th x done\n",
      "478th x done\n",
      "479th x done\n",
      "480th x done\n",
      "481th x done\n",
      "482th x done\n",
      "483th x done\n",
      "484th x done\n",
      "485th x done\n",
      "486th x done\n",
      "487th x done\n",
      "488th x done\n",
      "489th x done\n",
      "490th x done\n",
      "491th x done\n",
      "492th x done\n",
      "493th x done\n",
      "494th x done\n",
      "495th x done\n",
      "496th x done\n",
      "497th x done\n",
      "498th x done\n",
      "499th x done\n",
      "500th x done\n",
      "501th x done\n",
      "502th x done\n",
      "503th x done\n",
      "504th x done\n",
      "505th x done\n",
      "506th x done\n",
      "507th x done\n",
      "508th x done\n",
      "509th x done\n",
      "510th x done\n",
      "511th x done\n",
      "512th x done\n",
      "513th x done\n",
      "514th x done\n",
      "515th x done\n",
      "516th x done\n",
      "517th x done\n",
      "518th x done\n",
      "519th x done\n",
      "520th x done\n",
      "521th x done\n",
      "522th x done\n",
      "523th x done\n",
      "524th x done\n",
      "525th x done\n",
      "526th x done\n",
      "527th x done\n",
      "528th x done\n",
      "529th x done\n",
      "530th x done\n",
      "531th x done\n",
      "532th x done\n",
      "533th x done\n",
      "534th x done\n",
      "535th x done\n",
      "536th x done\n",
      "537th x done\n",
      "538th x done\n",
      "539th x done\n",
      "540th x done\n",
      "541th x done\n",
      "542th x done\n",
      "543th x done\n",
      "544th x done\n",
      "545th x done\n",
      "546th x done\n",
      "547th x done\n",
      "548th x done\n",
      "549th x done\n",
      "550th x done\n",
      "551th x done\n",
      "552th x done\n",
      "553th x done\n",
      "554th x done\n",
      "555th x done\n",
      "556th x done\n",
      "557th x done\n",
      "558th x done\n",
      "559th x done\n",
      "560th x done\n",
      "561th x done\n",
      "562th x done\n",
      "563th x done\n",
      "564th x done\n",
      "565th x done\n",
      "566th x done\n",
      "567th x done\n",
      "568th x done\n",
      "569th x done\n",
      "570th x done\n",
      "571th x done\n",
      "572th x done\n",
      "573th x done\n",
      "574th x done\n",
      "575th x done\n",
      "576th x done\n",
      "577th x done\n",
      "578th x done\n",
      "579th x done\n",
      "580th x done\n",
      "581th x done\n",
      "582th x done\n",
      "583th x done\n",
      "584th x done\n",
      "585th x done\n",
      "586th x done\n",
      "587th x done\n",
      "588th x done\n",
      "589th x done\n",
      "590th x done\n",
      "591th x done\n",
      "592th x done\n",
      "593th x done\n",
      "594th x done\n",
      "595th x done\n",
      "596th x done\n",
      "597th x done\n",
      "598th x done\n",
      "599th x done\n",
      "600th x done\n",
      "601th x done\n",
      "602th x done\n",
      "603th x done\n",
      "604th x done\n",
      "605th x done\n",
      "606th x done\n",
      "607th x done\n",
      "608th x done\n",
      "609th x done\n",
      "610th x done\n",
      "611th x done\n",
      "612th x done\n",
      "613th x done\n",
      "614th x done\n",
      "615th x done\n",
      "616th x done\n",
      "617th x done\n",
      "618th x done\n",
      "619th x done\n",
      "620th x done\n",
      "621th x done\n",
      "622th x done\n",
      "623th x done\n",
      "624th x done\n",
      "625th x done\n",
      "626th x done\n",
      "627th x done\n",
      "628th x done\n",
      "629th x done\n",
      "630th x done\n",
      "631th x done\n",
      "632th x done\n",
      "633th x done\n",
      "634th x done\n",
      "635th x done\n",
      "636th x done\n",
      "637th x done\n",
      "638th x done\n",
      "639th x done\n",
      "640th x done\n",
      "641th x done\n",
      "642th x done\n",
      "643th x done\n",
      "644th x done\n",
      "645th x done\n",
      "646th x done\n",
      "647th x done\n",
      "648th x done\n",
      "649th x done\n",
      "650th x done\n",
      "651th x done\n",
      "652th x done\n",
      "653th x done\n",
      "654th x done\n",
      "655th x done\n",
      "656th x done\n",
      "657th x done\n",
      "658th x done\n",
      "659th x done\n",
      "660th x done\n",
      "661th x done\n",
      "662th x done\n",
      "663th x done\n",
      "664th x done\n",
      "665th x done\n",
      "666th x done\n",
      "667th x done\n",
      "668th x done\n",
      "669th x done\n",
      "670th x done\n",
      "671th x done\n",
      "672th x done\n",
      "673th x done\n",
      "674th x done\n",
      "675th x done\n",
      "676th x done\n",
      "677th x done\n",
      "678th x done\n",
      "679th x done\n",
      "680th x done\n",
      "681th x done\n",
      "682th x done\n",
      "683th x done\n",
      "684th x done\n",
      "685th x done\n",
      "686th x done\n",
      "687th x done\n",
      "688th x done\n",
      "689th x done\n",
      "690th x done\n",
      "691th x done\n",
      "692th x done\n",
      "693th x done\n",
      "694th x done\n",
      "695th x done\n",
      "696th x done\n",
      "697th x done\n",
      "698th x done\n",
      "699th x done\n",
      "700th x done\n",
      "701th x done\n",
      "702th x done\n",
      "703th x done\n",
      "704th x done\n",
      "705th x done\n",
      "706th x done\n",
      "707th x done\n",
      "708th x done\n",
      "709th x done\n",
      "710th x done\n",
      "711th x done\n",
      "712th x done\n",
      "713th x done\n",
      "714th x done\n",
      "715th x done\n",
      "716th x done\n",
      "717th x done\n",
      "718th x done\n",
      "719th x done\n",
      "720th x done\n",
      "721th x done\n",
      "722th x done\n",
      "723th x done\n",
      "724th x done\n",
      "725th x done\n",
      "726th x done\n",
      "727th x done\n",
      "728th x done\n",
      "729th x done\n",
      "730th x done\n",
      "731th x done\n",
      "732th x done\n",
      "733th x done\n",
      "734th x done\n",
      "735th x done\n",
      "736th x done\n",
      "737th x done\n",
      "738th x done\n",
      "739th x done\n",
      "740th x done\n",
      "741th x done\n",
      "742th x done\n",
      "743th x done\n",
      "744th x done\n",
      "745th x done\n",
      "746th x done\n",
      "747th x done\n",
      "748th x done\n",
      "749th x done\n",
      "750th x done\n",
      "751th x done\n",
      "752th x done\n",
      "753th x done\n",
      "754th x done\n",
      "755th x done\n",
      "756th x done\n",
      "757th x done\n",
      "758th x done\n",
      "759th x done\n",
      "760th x done\n",
      "761th x done\n",
      "762th x done\n",
      "763th x done\n",
      "764th x done\n",
      "765th x done\n",
      "766th x done\n",
      "767th x done\n",
      "768th x done\n",
      "769th x done\n",
      "770th x done\n",
      "771th x done\n",
      "772th x done\n",
      "773th x done\n",
      "774th x done\n",
      "775th x done\n",
      "776th x done\n",
      "777th x done\n",
      "778th x done\n",
      "779th x done\n",
      "780th x done\n",
      "781th x done\n",
      "782th x done\n",
      "783th x done\n"
     ]
    }
   ],
   "source": [
    "n = 28*28\n",
    "shapley_vals = np.zeros(n)\n",
    "accuracy_subset = []\n",
    "all_subset = []\n",
    "subsets = power_set(set(range(n)), 10)\n",
    "class_assessed = 1 #Measuring the contribution of being in class 0 ---> NUMBER 1\n",
    "\n",
    "for i in range(n):\n",
    "    \n",
    "    for subset in subsets:\n",
    "        if i in subset: \n",
    "            subset_with_i = list(subset) \n",
    "            subset_without_i = subset\n",
    "            subset_without_i.discard(i) \n",
    "        else : \n",
    "            subset_without_i = list(subset) \n",
    "            subset_with_i = list(subset) + [i]\n",
    "\n",
    "        weight = (math.factorial(len(subset_without_i)) * math.factorial(n - len(subset_without_i) - 1)) / math.factorial(n) # Compute the weight as described in Shapley value\n",
    "\n",
    "\n",
    "        image_activated = mask_pixel(image, create_binary_list(subset_with_i,n))\n",
    "        image_deactivated = mask_pixel(image, create_binary_list(subset_without_i,n))\n",
    "        image_activated = np.expand_dims(image_activated, axis=0)\n",
    "        image_deactivated = np.expand_dims(image_deactivated, axis=0)\n",
    "\n",
    "        v_S_i = model(torch.tensor(np.expand_dims(image_activated, axis=0)))[0][class_assessed].item()   \n",
    "        v_S = model(torch.tensor(np.expand_dims(image_deactivated, axis=0)))[0][class_assessed].item()\n",
    "\n",
    "        if v_S_i<0: \n",
    "            accuracy_subset.append(0)\n",
    "        else: accuracy_subset.append(1)\n",
    "\n",
    "        all_subset.append(len(subset))\n",
    "\n",
    "        # Compute marginal contribution\n",
    "        shapley_vals[i] += weight * (v_S_i - v_S)\n",
    "\n",
    "\n",
    "    accuracy = correct / total * 100\n",
    "    print(f\"{i}th x done\")"
   ]
  },
  {
   "cell_type": "code",
   "execution_count": null,
   "metadata": {},
   "outputs": [
    {
     "data": {
      "text/plain": [
       "[]"
      ]
     },
     "execution_count": 22,
     "metadata": {},
     "output_type": "execute_result"
    },
    {
     "data": {
      "image/png": "[encoded data removed]",
      "text/plain": [
       "<Figure size 640x480 with 1 Axes>"
      ]
     },
     "metadata": {},
     "output_type": "display_data"
    }
   ],
   "source": [
    "length_to_sum = {}  # Stores sum of values for each length\n",
    "length_to_count = {}  # Stores count of occurrences for each length\n",
    "\n",
    "# Group sums and counts by length\n",
    "for length, value in zip(all_subset, accuracy_subset):\n",
    "    if length in length_to_sum:\n",
    "        length_to_sum[length] += value\n",
    "        length_to_count[length] += 1\n",
    "    else:\n",
    "        length_to_sum[length] = value\n",
    "        length_to_count[length] = 1\n",
    "\n",
    "# Compute mean for each length\n",
    "mean_by_length = {length: length_to_sum[length] / length_to_count[length] for length in length_to_sum}\n",
    "\n",
    "plt.scatter(mean_by_length.keys(),mean_by_length.values())\n",
    "plt.xlabel('Subset lenght')\n",
    "plt.ylabel('Accuracy of the subset')\n",
    "plt.title('mean accuracy for the number of subset activated')\n",
    "plt.grid()\n",
    "plt.plot()"
   ]
  },
  {
   "cell_type": "code",
   "execution_count": null,
   "metadata": {},
   "outputs": [
    {
     "data": {
      "image/png": "[encoded data removed]",
      "text/plain": [
       "<Figure size 600x600 with 2 Axes>"
      ]
     },
     "metadata": {},
     "output_type": "display_data"
    }
   ],
   "source": [
    "fig, ax = plt.subplots(figsize=(6, 6))\n",
    "heatmap = shapley_vals.reshape(28,28)\n",
    "# Display the MNIST image\n",
    "ax.imshow(image, cmap='gray', interpolation='nearest')\n",
    "\n",
    "# Now, overlay the heatmap\n",
    "# Scale the region_values to match the dimensions of the MNIST image\n",
    "\n",
    "# Overlay the heatmap with a transparent colormap\n",
    "# You can adjust alpha for transparency\n",
    "ax.imshow(heatmap, cmap='hot', alpha=0.5)\n",
    "\n",
    "# Show the plot\n",
    "plt.colorbar(ax.imshow(heatmap, cmap='coolwarm', vmin=-np.abs(heatmap).max(), vmax=np.abs(heatmap).max(), alpha=0.5), ax=ax)  # Add colorbar for the heatmap\n",
    "plt.show()"
   ]
  },
  {
   "cell_type": "markdown",
   "metadata": {},
   "source": [
    "#### 3: KernelSHAP\n",
    "\n",
    "Kernel SHAP is a model agnostic method to approximate SHAP values using ideas from LIME and Shapley values.\n",
    "\n",
    "In the case of KernelSHAP, a surrogate model is trained to mimic the behavior of the model, allowing for faster processing of the instances.  \n",
    "\n",
    "\n",
    "\\begin{equation}\n",
    "  argmin_{\\phi} \\sum_{z'}\\left[f(h_x(z'))- \\phi_0- \\sum_{i=1}^{M}\\phi_i z_i' \\right]^2 \\pi_x(z')\n",
    "\\end{equation}\n",
    "\n",
    "while in LIME the weight $\\pi$ control the locality of the instance, here it is computed based on a Shapley kernel : \n",
    "\n",
    "\\begin{equation}\n",
    " \\pi_x(z')= \\frac{(M - 1)}{\\binom{M}{|z'|} \\cdot |z'| \\cdot (M - |z'|)}\n",
    "\\end{equation}\n",
    "\n",
    "$\\phi_i$ is the SHAP values of feature $i$, it is what we are trying to find. \n",
    "$z$ represents the mask, it indicates which feature is activated in this coalition. \n",
    "\n",
    "This weight ensure that the largest coalition contribute the most in the fit of the linear classifier. \n",
    "\n",
    "This linear classifier allows a better generalization, from a small number of coalition, it approximates the Shapley Value for each of them."
   ]
  },
  {
   "cell_type": "code",
   "execution_count": 11,
   "metadata": {},
   "outputs": [],
   "source": [
    "image = images[329].squeeze()\n",
    "\n",
    "#plt.imshow(image.reshape(28,28))"
   ]
  },
  {
   "cell_type": "code",
   "execution_count": 41,
   "metadata": {},
   "outputs": [],
   "source": [
    "import torch\n",
    "import numpy as np\n",
    "from sklearn.linear_model import LinearRegression\n",
    "from math import comb\n",
    "\n",
    "def kernel_shap(model, x, class_assessed):\n",
    "    model.eval()\n",
    "    with torch.no_grad():\n",
    "        M = x.numel()  # Total number of pixels (e.g., 784 for 28x28)\n",
    "\n",
    "        # Generate coalitions: [num_samples, M]\n",
    "        subsets = power_set(set(range(M)), 10000)\n",
    "\n",
    "\n",
    "        X = []  # binary vectors (z')\n",
    "        y = []  # model predictions\n",
    "        weights = []  # shapley kernel weights\n",
    "\n",
    "        for x in subsets:\n",
    "            z = create_binary_list(x,M)\n",
    "            h = torch.tensor(np.expand_dims(np.expand_dims(mask_pixel(image, z), axis=0), axis=0))\n",
    "            f = model(h)[0][class_assessed]\n",
    "            # Compute kernel weight\n",
    "            s = np.array(z).sum().item()\n",
    "            if s == 0 or s == M:\n",
    "                continue  # skip empty and full coalitions\n",
    "\n",
    "            weight = (M - 1) / (comb(M, int(s)) * s * (M - s)) #Shapley Value Kernel\n",
    "\n",
    "            X.append(np.array(z))\n",
    "            y.append(f)\n",
    "            weights.append(weight)\n",
    "\n",
    "        # Fit weighted linear regression\n",
    "        reg = LinearRegression(fit_intercept=True)\n",
    "        X = np.array(X)\n",
    "        y = np.array(y)\n",
    "        weights = np.array(weights)\n",
    "        reg.fit(X, y, sample_weight=weights)\n",
    "\n",
    "        phi_0 = reg.intercept_\n",
    "        phi = reg.coef_\n",
    "\n",
    "        return phi_0, phi.reshape(28, 28)  # Return SHAP values as 28x28 heatmap\n"
   ]
  },
  {
   "cell_type": "code",
   "execution_count": 48,
   "metadata": {},
   "outputs": [],
   "source": [
    "classe_assessed = 1\n",
    "phi_0, shap_values = kernel_shap(model, image, classe_assessed)\n"
   ]
  },
  {
   "cell_type": "code",
   "execution_count": 49,
   "metadata": {},
   "outputs": [
    {
     "data": {
      "text/plain": [
       "(28, 28)"
      ]
     },
     "execution_count": 49,
     "metadata": {},
     "output_type": "execute_result"
    }
   ],
   "source": [
    "shap_values.shape"
   ]
  },
  {
   "cell_type": "code",
   "execution_count": 50,
   "metadata": {},
   "outputs": [
    {
     "data": {
      "text/plain": [
       "np.float64(0.26560047078829524)"
      ]
     },
     "execution_count": 50,
     "metadata": {},
     "output_type": "execute_result"
    }
   ],
   "source": [
    "shap_values.max()"
   ]
  },
  {
   "cell_type": "code",
   "execution_count": 51,
   "metadata": {},
   "outputs": [
    {
     "data": {
      "image/png": "[encoded data removed]",
      "text/plain": [
       "<Figure size 600x600 with 2 Axes>"
      ]
     },
     "metadata": {},
     "output_type": "display_data"
    }
   ],
   "source": [
    "fig, ax = plt.subplots(figsize=(6, 6))\n",
    "# Display the MNIST image\n",
    "ax.imshow(image, cmap='gray', interpolation='nearest')\n",
    "\n",
    "# Now, overlay the heatmap\n",
    "# Scale the region_values to match the dimensions of the MNIST image\n",
    "\n",
    "# Overlay the heatmap with a transparent colormap\n",
    "# You can adjust alpha for transparency\n",
    "ax.imshow(shap_values, cmap='hot', alpha=0.5)\n",
    "\n",
    "# Show the plot\n",
    "plt.colorbar(ax.imshow(shap_values, cmap='coolwarm', alpha=0.5), ax=ax)  # Add colorbar for the heatmap\n",
    "plt.title(label=f\"Contribution for class {classe_assessed*6+1}\")\n",
    "plt.show()"
   ]
  },
  {
   "cell_type": "markdown",
   "metadata": {},
   "source": [
    "### SHAP for applying Shapley Value\n",
    "\n",
    "\n",
    "Indeed, first, the number of Shapley Values to compute grows exponentially with the number of features, resulting in high computational complexity for models with large feature spaces ($N$ features, $2^N$ coalitions).\n",
    "\n",
    "Second, defining a baseline to represent the \"absence\" of a feature is critical but can vary significantly depending on the data and domain, affecting the interpretability of the results.\n",
    "\n",
    "SHAP values are calculated based on the expected prediction of the model when only certain feature are available. $f_x(z') = f(h_x(z')) = E[f(z)|z_s]$\n",
    "\n",
    "Kernel SHAP is a model-agnostic approach that uses a weighted linear regression framework to approximate Shapley Values by sampling feature subsets. "
   ]
  },
  {
   "cell_type": "code",
   "execution_count": 52,
   "metadata": {},
   "outputs": [
    {
     "name": "stderr",
     "output_type": "stream",
     "text": [
      "/home/raph2268/miniconda3/envs/XAI_methods/lib/python3.13/site-packages/tqdm/auto.py:21: TqdmWarning: IProgress not found. Please update jupyter and ipywidgets. See https://ipywidgets.readthedocs.io/en/stable/user_install.html\n",
      "  from .autonotebook import tqdm as notebook_tqdm\n"
     ]
    }
   ],
   "source": [
    "import shap\n",
    "\n"
   ]
  },
  {
   "cell_type": "code",
   "execution_count": 58,
   "metadata": {},
   "outputs": [],
   "source": [
    "shap_loader = torch.utils.data.DataLoader(test_dataset, batch_size=1024, shuffle=False)\n",
    "\n",
    "\n",
    "batch = next(iter(test_all))\n",
    "images, _ = batch\n",
    "\n",
    "background = images[:100]\n",
    "test_images = images[329]\n"
   ]
  },
  {
   "cell_type": "code",
   "execution_count": 59,
   "metadata": {},
   "outputs": [
    {
     "data": {
      "text/plain": [
       "torch.Size([100, 1, 28, 28])"
      ]
     },
     "execution_count": 59,
     "metadata": {},
     "output_type": "execute_result"
    }
   ],
   "source": [
    "background.shape"
   ]
  },
  {
   "cell_type": "code",
   "execution_count": 60,
   "metadata": {},
   "outputs": [
    {
     "data": {
      "text/plain": [
       "torch.Size([1, 28, 28])"
      ]
     },
     "execution_count": 60,
     "metadata": {},
     "output_type": "execute_result"
    }
   ],
   "source": [
    "test_images.shape"
   ]
  },
  {
   "cell_type": "code",
   "execution_count": null,
   "metadata": {},
   "outputs": [],
   "source": [
    "KernelSHAP = shap.KernelExplainer(model, background)\n"
   ]
  },
  {
   "cell_type": "code",
   "execution_count": 62,
   "metadata": {},
   "outputs": [
    {
     "ename": "TypeError",
     "evalue": "Unknown type passed as data object: <class 'torch.Tensor'>",
     "output_type": "error",
     "traceback": [
      "\u001b[31m---------------------------------------------------------------------------\u001b[39m",
      "\u001b[31mTypeError\u001b[39m                                 Traceback (most recent call last)",
      "\u001b[36mCell\u001b[39m\u001b[36m \u001b[39m\u001b[32mIn[62]\u001b[39m\u001b[32m, line 1\u001b[39m\n\u001b[32m----> \u001b[39m\u001b[32m1\u001b[39m KernelSHAP = \u001b[43mshap\u001b[49m\u001b[43m.\u001b[49m\u001b[43mKernelExplainer\u001b[49m\u001b[43m(\u001b[49m\u001b[43mmodel\u001b[49m\u001b[43m,\u001b[49m\u001b[43m \u001b[49m\u001b[43mbackground\u001b[49m\u001b[43m)\u001b[49m\n\u001b[32m      3\u001b[39m DeepSHAP = shap.DeepExplainer(model, background)\n\u001b[32m      4\u001b[39m shap_values = e.shap_values(test_images)\n",
      "\u001b[36mFile \u001b[39m\u001b[32m~/miniconda3/envs/XAI_methods/lib/python3.13/site-packages/shap/explainers/_kernel.py:96\u001b[39m, in \u001b[36mKernelExplainer.__init__\u001b[39m\u001b[34m(self, model, data, feature_names, link, **kwargs)\u001b[39m\n\u001b[32m     94\u001b[39m \u001b[38;5;28mself\u001b[39m.keep_index_ordered = kwargs.get(\u001b[33m\"\u001b[39m\u001b[33mkeep_index_ordered\u001b[39m\u001b[33m\"\u001b[39m, \u001b[38;5;28;01mFalse\u001b[39;00m)\n\u001b[32m     95\u001b[39m \u001b[38;5;28mself\u001b[39m.model = convert_to_model(model, keep_index=\u001b[38;5;28mself\u001b[39m.keep_index)\n\u001b[32m---> \u001b[39m\u001b[32m96\u001b[39m \u001b[38;5;28mself\u001b[39m.data = \u001b[43mconvert_to_data\u001b[49m\u001b[43m(\u001b[49m\u001b[43mdata\u001b[49m\u001b[43m,\u001b[49m\u001b[43m \u001b[49m\u001b[43mkeep_index\u001b[49m\u001b[43m=\u001b[49m\u001b[38;5;28;43mself\u001b[39;49m\u001b[43m.\u001b[49m\u001b[43mkeep_index\u001b[49m\u001b[43m)\u001b[49m\n\u001b[32m     97\u001b[39m model_null = match_model_to_data(\u001b[38;5;28mself\u001b[39m.model, \u001b[38;5;28mself\u001b[39m.data)\n\u001b[32m     99\u001b[39m \u001b[38;5;66;03m# enforce our current input type limitations\u001b[39;00m\n",
      "\u001b[36mFile \u001b[39m\u001b[32m~/miniconda3/envs/XAI_methods/lib/python3.13/site-packages/shap/utils/_legacy.py:235\u001b[39m, in \u001b[36mconvert_to_data\u001b[39m\u001b[34m(val, keep_index)\u001b[39m\n\u001b[32m    232\u001b[39m     \u001b[38;5;28;01mreturn\u001b[39;00m SparseData(val)\n\u001b[32m    234\u001b[39m emsg = \u001b[33mf\u001b[39m\u001b[33m\"\u001b[39m\u001b[33mUnknown type passed as data object: \u001b[39m\u001b[38;5;132;01m{\u001b[39;00m\u001b[38;5;28mtype\u001b[39m(val)\u001b[38;5;132;01m}\u001b[39;00m\u001b[33m\"\u001b[39m\n\u001b[32m--> \u001b[39m\u001b[32m235\u001b[39m \u001b[38;5;28;01mraise\u001b[39;00m \u001b[38;5;167;01mTypeError\u001b[39;00m(emsg)\n",
      "\u001b[31mTypeError\u001b[39m: Unknown type passed as data object: <class 'torch.Tensor'>"
     ]
    }
   ],
   "source": [
    "\n",
    "KernelSHAP = shap.KernelExplainer(model, background)\n",
    "\n",
    "DeepSHAP = shap.DeepExplainer(model, background)\n",
    "shap_values = e.shap_values(test_images)"
   ]
  },
  {
   "cell_type": "code",
   "execution_count": null,
   "metadata": {},
   "outputs": [],
   "source": []
  },
  {
   "cell_type": "code",
   "execution_count": null,
   "metadata": {},
   "outputs": [
    {
     "data": {
      "text/plain": [
       "(6, 1, 28, 28, 2)"
      ]
     },
     "execution_count": 92,
     "metadata": {},
     "output_type": "execute_result"
    }
   ],
   "source": [
    "shap_values.shape"
   ]
  },
  {
   "cell_type": "code",
   "execution_count": null,
   "metadata": {},
   "outputs": [],
   "source": [
    "shap_numpy = list(np.transpose(shap_values, (4, 0, 2, 3, 1)))\n",
    "test_numpy = np.swapaxes(np.swapaxes(test_images.numpy(), 1, -1), 1, 2)"
   ]
  },
  {
   "cell_type": "code",
   "execution_count": null,
   "metadata": {},
   "outputs": [
    {
     "data": {
      "image/png": "[encoded data removed]",
      "text/plain": [
       "<Figure size 900x1750 with 19 Axes>"
      ]
     },
     "metadata": {},
     "output_type": "display_data"
    }
   ],
   "source": [
    "shap.image_plot(shap_numpy, -test_numpy)"
   ]
  },
  {
   "cell_type": "markdown",
   "metadata": {},
   "source": [
    "Remark : \n",
    "\n",
    "- In this example we are using grayscale, so we are only computing the gradient of each pixel on one dimension. In case the input is several dimension, the \n",
    "\n",
    "- One sanity test to run is to test to check the completeness. The completness property is imply by the sensitivity $\\sum_{i=1}^{n}IntegratedGrads(x)=F(x) - F(x')$"
   ]
  }
 ],
 "metadata": {
  "kernelspec": {
   "display_name": "XAI_methods",
   "language": "python",
   "name": "python3"
  },
  "language_info": {
   "codemirror_mode": {
    "name": "ipython",
    "version": 3
   },
   "file_extension": ".py",
   "mimetype": "text/x-python",
   "name": "python",
   "nbconvert_exporter": "python",
   "pygments_lexer": "ipython3",
   "version": "3.13.2"
  }
 },
 "nbformat": 4,
 "nbformat_minor": 2
}
