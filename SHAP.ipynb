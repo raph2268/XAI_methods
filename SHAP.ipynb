{
 "cells": [
  {
   "cell_type": "markdown",
   "metadata": {},
   "source": [
    "# SHAP "
   ]
  },
  {
   "cell_type": "markdown",
   "metadata": {},
   "source": [
    "The SHAP (SHapley Additive exPlanations) method offers a framework for leveraging Shapley Values, a concept rooted in **Game Theory**.\n",
    "\n",
    "\n",
    "Let's first create and train a model we want to evaluate \n",
    "  "
   ]
  },
  {
   "cell_type": "markdown",
   "metadata": {},
   "source": [
    "## Imports"
   ]
  },
  {
   "cell_type": "code",
   "execution_count": 1,
   "metadata": {},
   "outputs": [],
   "source": [
    "import torch\n",
    "import torch.nn as nn\n",
    "import torch.optim as optim\n",
    "import torchvision\n",
    "import torchvision.transforms as transforms\n",
    "import matplotlib.pyplot as plt\n",
    "import numpy as np"
   ]
  },
  {
   "cell_type": "markdown",
   "metadata": {},
   "source": [
    "## Data import \n",
    "\n",
    "Let's us MNIST data set. To make our example even more clearer, we will classify only between 1 and 7. Usually the hardest to identify due to there similarity in script wrtting. "
   ]
  },
  {
   "cell_type": "code",
   "execution_count": 2,
   "metadata": {},
   "outputs": [],
   "source": [
    "from torch.utils.data import Dataset\n",
    "from torchvision import datasets, transforms\n",
    "import torch\n",
    "\n",
    "class SubsetMNIST(Dataset):\n",
    "    def __init__(self, original_dataset, classes=[1, 7]):\n",
    "        self.data = []\n",
    "        self.targets = []\n",
    "        \n",
    "        # Define the transformation to convert images to tensors\n",
    "        transform = transforms.Compose([transforms.ToTensor()])\n",
    "        \n",
    "        # Filter dataset to only include the classes you want\n",
    "        for i in range(len(original_dataset)):\n",
    "            img, label = original_dataset[i]\n",
    "            if label in classes:\n",
    "                # Apply the transformation to the image\n",
    "                img = transform(img)\n",
    "                \n",
    "                # Remap labels: 1 -> 0, 7 -> 1\n",
    "                if label == 1:\n",
    "                    label = 0\n",
    "                elif label == 7:\n",
    "                    label = 1\n",
    "                \n",
    "                self.data.append(img)\n",
    "                self.targets.append(label)\n",
    "        \n",
    "        # Convert the list of targets to a tensor\n",
    "        self.targets = torch.tensor(self.targets)\n",
    "\n",
    "    def __getitem__(self, index):\n",
    "        return self.data[index], self.targets[index]\n",
    "\n",
    "    def __len__(self):\n",
    "        return len(self.data)\n",
    "\n",
    "# Load the original MNIST dataset\n",
    "full_train_dataset = datasets.MNIST(root='./data', train=True, download=True)\n",
    "full_test_dataset = datasets.MNIST(root='./data', train=False, download=True)\n",
    "\n",
    "# Create a subset of the MNIST dataset containing only classes 1 and 7\n",
    "train_dataset = SubsetMNIST(full_train_dataset, classes=[1, 7])\n",
    "test_dataset = SubsetMNIST(full_test_dataset, classes=[1, 7])\n",
    "\n",
    "\n",
    "# Create DataLoaders\n",
    "train_loader = torch.utils.data.DataLoader(train_dataset, batch_size=64, shuffle=True)\n"
   ]
  },
  {
   "cell_type": "markdown",
   "metadata": {},
   "source": [
    "## Model :\n",
    "\n",
    "Let's now build our simple CNN model"
   ]
  },
  {
   "cell_type": "code",
   "execution_count": 3,
   "metadata": {},
   "outputs": [],
   "source": [
    "class MNIST_CNN(nn.Module):\n",
    "    def __init__(self):\n",
    "        super().__init__()\n",
    "\n",
    "        self.conv_layers = nn.Sequential(\n",
    "            nn.Conv2d(1, 10, kernel_size=5),\n",
    "            nn.MaxPool2d(2),\n",
    "            nn.ReLU(),\n",
    "            nn.Conv2d(10, 20, kernel_size=5),\n",
    "            nn.Dropout(),\n",
    "            nn.MaxPool2d(2),\n",
    "            nn.ReLU(),\n",
    "        )\n",
    "        self.fc_layers = nn.Sequential(\n",
    "            nn.Linear(320, 50),\n",
    "            nn.ReLU(),\n",
    "            nn.Dropout(),\n",
    "            nn.Linear(50, 2),\n",
    "            nn.Softmax(dim=1),\n",
    "        )\n",
    "\n",
    "    def forward(self, x):\n",
    "        x = self.conv_layers(x)\n",
    "        x = x.view(-1, 320)\n",
    "        x = self.fc_layers(x)\n",
    "        return x\n"
   ]
  },
  {
   "cell_type": "markdown",
   "metadata": {},
   "source": [
    "### Training \n",
    "Let's train it for a few epochs :"
   ]
  },
  {
   "cell_type": "code",
   "execution_count": 4,
   "metadata": {},
   "outputs": [
    {
     "name": "stdout",
     "output_type": "stream",
     "text": [
      "Epoch [1/5], Loss: 0.3532\n",
      "Epoch [2/5], Loss: 0.3189\n",
      "Epoch [3/5], Loss: 0.3174\n",
      "Epoch [4/5], Loss: 0.3169\n",
      "Epoch [5/5], Loss: 0.3166\n",
      "Training complete!\n"
     ]
    }
   ],
   "source": [
    "# Initialize the model, criterion, and optimizer\n",
    "model = MNIST_CNN()\n",
    "criterion = nn.CrossEntropyLoss()\n",
    "optimizer = optim.Adam(model.parameters(), lr=0.001)\n",
    "\n",
    "# Training loop\n",
    "num_epochs = 5  # Set number of epochs as needed\n",
    "\n",
    "for epoch in range(num_epochs):\n",
    "    model.train()\n",
    "    running_loss = 0.0\n",
    "\n",
    "    for images, labels in train_loader:\n",
    "        optimizer.zero_grad()\n",
    "        outputs = model(images)\n",
    "        loss = criterion(outputs, labels)\n",
    "        loss.backward()\n",
    "        optimizer.step()\n",
    "        running_loss += loss.item()\n",
    "\n",
    "    print(f\"Epoch [{epoch+1}/{num_epochs}], Loss: {running_loss/len(train_loader):.4f}\")\n",
    "\n",
    "print(\"Training complete!\")\n"
   ]
  },
  {
   "cell_type": "code",
   "execution_count": 5,
   "metadata": {},
   "outputs": [
    {
     "name": "stdout",
     "output_type": "stream",
     "text": [
      "Accuracy on test set: 99.49%\n"
     ]
    }
   ],
   "source": [
    "correct = 0\n",
    "total = 0\n",
    "\n",
    "test_loader = torch.utils.data.DataLoader(test_dataset, batch_size=5, shuffle=False)\n",
    "\n",
    "with torch.no_grad():  # No gradients needed for evaluation\n",
    "    for images, labels in test_loader:\n",
    "        outputs = model(images)\n",
    "        _, predicted = torch.max(outputs, 1)\n",
    "        total += labels.size(0)\n",
    "        correct += (predicted == labels).sum().item()\n",
    "\n",
    "accuracy = correct / total * 100\n",
    "print(f\"Accuracy on test set: {accuracy:.2f}%\")\n"
   ]
  },
  {
   "cell_type": "markdown",
   "metadata": {},
   "source": [
    "### Evaluation : \n",
    "\n",
    "Finally let's evaluate to check the robustness of our model"
   ]
  },
  {
   "cell_type": "code",
   "execution_count": 6,
   "metadata": {},
   "outputs": [
    {
     "name": "stdout",
     "output_type": "stream",
     "text": [
      "torch.Size([5, 1, 28, 28])\n"
     ]
    },
    {
     "data": {
      "image/png": "[encoded data removed]",
      "text/plain": [
       "<Figure size 640x480 with 5 Axes>"
      ]
     },
     "metadata": {},
     "output_type": "display_data"
    },
    {
     "name": "stdout",
     "output_type": "stream",
     "text": [
      "Accuracy on test set: 99.58%\n"
     ]
    }
   ],
   "source": [
    "import matplotlib.pyplot as plt\n",
    "\n",
    "# Set model to evaluation mode\n",
    "model.eval()\n",
    "test_loader = torch.utils.data.DataLoader(test_dataset, batch_size=5, shuffle=False)\n",
    "\n",
    "# Get a batch of test data\n",
    "images, labels = next(iter(test_loader))  # Get a batch of images\n",
    "outputs = model(images)\n",
    "print(images.shape)\n",
    "# Get predicted class indices\n",
    "_, predicted = torch.max(outputs, 1)\n",
    "\n",
    "# Plot the first 5 images in the batch with their predicted and true labels\n",
    "for i in range(5):\n",
    "    plt.subplot(1, 5, i+1)\n",
    "    plt.imshow(images[i].squeeze(), cmap=\"gray\")  # squeeze to remove unnecessary dimension\n",
    "    plt.title(f\"Pred: {(predicted[i].item())*6+1} \\n True: {(labels[i].item())*6+1}\")\n",
    "    plt.axis('off')\n",
    "\n",
    "plt.show()\n",
    "\n",
    "# Compute accuracy on the test dataset\n",
    "correct = 0\n",
    "total = 0\n",
    "with torch.no_grad():  # No need to track gradients for evaluation\n",
    "    for images, labels in test_loader:\n",
    "        outputs = model(images)\n",
    "        _, predicted = torch.max(outputs, 1)\n",
    "        total += labels.size(0)\n",
    "        correct += (predicted == labels).sum().item()\n",
    "\n",
    "accuracy = correct / total * 100  # Accuracy as percentage\n",
    "print(f\"Accuracy on test set: {accuracy:.2f}%\")\n",
    "\n"
   ]
  },
  {
   "cell_type": "markdown",
   "metadata": {},
   "source": [
    "We can now check the one that the model struggled with"
   ]
  },
  {
   "cell_type": "code",
   "execution_count": 7,
   "metadata": {},
   "outputs": [
    {
     "data": {
      "text/plain": [
       "torch.Size([1, 28, 28])"
      ]
     },
     "execution_count": 7,
     "metadata": {},
     "output_type": "execute_result"
    }
   ],
   "source": [
    "images[0].shape"
   ]
  },
  {
   "cell_type": "code",
   "execution_count": 8,
   "metadata": {},
   "outputs": [
    {
     "data": {
      "text/plain": [
       "0.9999936819076538"
      ]
     },
     "execution_count": 8,
     "metadata": {},
     "output_type": "execute_result"
    }
   ],
   "source": [
    "outputs = model(images[0])\n",
    "outputs[0][0].item()"
   ]
  },
  {
   "cell_type": "code",
   "execution_count": 9,
   "metadata": {},
   "outputs": [
    {
     "name": "stdout",
     "output_type": "stream",
     "text": [
      "index 150\n",
      "True label:  tensor(7)\n",
      "Pred label:  tensor(1)\n"
     ]
    },
    {
     "data": {
      "image/png": "[encoded data removed]",
      "text/plain": [
       "<Figure size 640x480 with 1 Axes>"
      ]
     },
     "metadata": {},
     "output_type": "display_data"
    },
    {
     "name": "stdout",
     "output_type": "stream",
     "text": [
      "index 237\n",
      "True label:  tensor(7)\n",
      "Pred label:  tensor(1)\n"
     ]
    },
    {
     "data": {
      "image/png": "[encoded data removed]",
      "text/plain": [
       "<Figure size 640x480 with 1 Axes>"
      ]
     },
     "metadata": {},
     "output_type": "display_data"
    },
    {
     "name": "stdout",
     "output_type": "stream",
     "text": [
      "index 278\n",
      "True label:  tensor(7)\n",
      "Pred label:  tensor(1)\n"
     ]
    },
    {
     "data": {
      "image/png": "[encoded data removed]",
      "text/plain": [
       "<Figure size 640x480 with 1 Axes>"
      ]
     },
     "metadata": {},
     "output_type": "display_data"
    },
    {
     "name": "stdout",
     "output_type": "stream",
     "text": [
      "index 286\n",
      "True label:  tensor(7)\n",
      "Pred label:  tensor(1)\n"
     ]
    },
    {
     "data": {
      "image/png": "[encoded data removed]",
      "text/plain": [
       "<Figure size 640x480 with 1 Axes>"
      ]
     },
     "metadata": {},
     "output_type": "display_data"
    },
    {
     "name": "stdout",
     "output_type": "stream",
     "text": [
      "index 296\n",
      "True label:  tensor(7)\n",
      "Pred label:  tensor(1)\n"
     ]
    },
    {
     "data": {
      "image/png": "[encoded data removed]",
      "text/plain": [
       "<Figure size 640x480 with 1 Axes>"
      ]
     },
     "metadata": {},
     "output_type": "display_data"
    },
    {
     "name": "stdout",
     "output_type": "stream",
     "text": [
      "index 329\n",
      "True label:  tensor(7)\n",
      "Pred label:  tensor(1)\n"
     ]
    },
    {
     "data": {
      "image/png": "[encoded data removed]",
      "text/plain": [
       "<Figure size 640x480 with 1 Axes>"
      ]
     },
     "metadata": {},
     "output_type": "display_data"
    },
    {
     "name": "stdout",
     "output_type": "stream",
     "text": [
      "index 697\n",
      "True label:  tensor(7)\n",
      "Pred label:  tensor(1)\n"
     ]
    },
    {
     "data": {
      "image/png": "[encoded data removed]",
      "text/plain": [
       "<Figure size 640x480 with 1 Axes>"
      ]
     },
     "metadata": {},
     "output_type": "display_data"
    },
    {
     "name": "stdout",
     "output_type": "stream",
     "text": [
      "index 1057\n",
      "True label:  tensor(7)\n",
      "Pred label:  tensor(1)\n"
     ]
    },
    {
     "data": {
      "image/png": "[encoded data removed]",
      "text/plain": [
       "<Figure size 640x480 with 1 Axes>"
      ]
     },
     "metadata": {},
     "output_type": "display_data"
    },
    {
     "name": "stdout",
     "output_type": "stream",
     "text": [
      "index 1411\n",
      "True label:  tensor(7)\n",
      "Pred label:  tensor(1)\n"
     ]
    },
    {
     "data": {
      "image/png": "[encoded data removed]",
      "text/plain": [
       "<Figure size 640x480 with 1 Axes>"
      ]
     },
     "metadata": {},
     "output_type": "display_data"
    }
   ],
   "source": [
    "test_all = torch.utils.data.DataLoader(test_dataset, batch_size=len(test_dataset), shuffle=False)\n",
    "wrong_label =[]\n",
    "with torch.no_grad():  # No need to track gradients for evaluation\n",
    "    for images, labels in test_all:\n",
    "        outputs = model(images)\n",
    "        _, predicted = torch.max(outputs, 1)\n",
    "        for i in range(len(images)):\n",
    "            if (predicted [i] != labels[i]) : \n",
    "                print('index', i)\n",
    "                print('True label: ', labels[i]*6+1)\n",
    "                print('Pred label: ', predicted[i]*6+1)\n",
    "                wrong_label.append(i)\n",
    "                plt.imshow(images[i].squeeze(), cmap=\"gray\")\n",
    "            \n",
    "                plt.show()"
   ]
  },
  {
   "cell_type": "markdown",
   "metadata": {},
   "source": [
    "## SHAP"
   ]
  },
  {
   "cell_type": "markdown",
   "metadata": {},
   "source": [
    "### Shapley value \n",
    "\n",
    "In game theory, **Shapley Values represent the contribution $\\phi_i$ of a player $i$ within a coalition $S$ by comparing the outcomes of scenarios where the player is present  $v(S \\cup \\{i\\})$ versus absent $v(S)$**.\n",
    "\\begin{equation}\n",
    "  \\phi_i = \\sum_{S \\subseteq N \\setminus \\{i\\}} \\frac{|S|! \\, (|N| - |S| - 1)!}{|N|!} \\, \\left[ v(S \\cup \\{i\\}) - v(S) \\right]\n",
    "\\end{equation}\n",
    "\n",
    "Applied to XAI, this involves computing the difference in model outputs between these scenarios, but ends up being difficulte to compute in most real applications due to the high dimensionality of the data.\n"
   ]
  },
  {
   "cell_type": "code",
   "execution_count": 10,
   "metadata": {},
   "outputs": [
    {
     "data": {
      "text/plain": [
       "101745825697019260773923519755878567461315282017759829107608914364075275235254395622580447400994175578963163918967182013639660669771108475957692810857098847138903161308502419410142185759152435680068435915159402496058513611411689167650816"
      ]
     },
     "execution_count": 10,
     "metadata": {},
     "output_type": "execute_result"
    }
   ],
   "source": [
    "pow(2,28*28)"
   ]
  },
  {
   "cell_type": "markdown",
   "metadata": {},
   "source": [
    "This is the number of coalition we would have to compute to assess the contribution of each pixel. \n",
    "\n",
    "In a naive way, let's approximate the SV by taking a random amount of contribution."
   ]
  },
  {
   "cell_type": "code",
   "execution_count": 11,
   "metadata": {},
   "outputs": [],
   "source": [
    "import random\n",
    "from itertools import combinations\n",
    "import math\n",
    "\n",
    "\n",
    "def power_set(iterable, num_sets=None):\n",
    "    if num_sets == None :\n",
    "        \"\"\"Generate all subsets of a given iterable, excluding full set.\"\"\"\n",
    "        s = list(iterable)\n",
    "        return [set(comb) for r in range(1, len(s)) for comb in combinations(s, r)]\n",
    "\n",
    "    else : \n",
    "        \"\"\"Generate a fixed number of random subsets of a given iterable, excluding the full set.\"\"\"\n",
    "\n",
    "        s = list(iterable)\n",
    "        subsets = set()\n",
    "        \n",
    "        # Keep generating random subsets until we have the desired number\n",
    "        while len(subsets) < num_sets:\n",
    "            r = random.randint(0, len(s)-1)  # Random size of subset (excluding the full set)\n",
    "            random_subset = set(random.sample(s, r))\n",
    "            \n",
    "            if random_subset not in subsets:\n",
    "                subsets.add(frozenset(random_subset))  # Use frozenset to avoid duplicates\n",
    "        \n",
    "    return [set(subset) for subset in subsets]\n",
    "\n",
    "sets = power_set(set(range(16)), 1000)\n"
   ]
  },
  {
   "cell_type": "code",
   "execution_count": 12,
   "metadata": {},
   "outputs": [],
   "source": [
    "# Function to display the segmented image with 10 parts\n",
    "def display_segmented_image(image, activation_mask):\n",
    "    \"\"\"\n",
    "    Display the segmented image where each segment is activated/deactivated based on the mask.\n",
    "    \n",
    "    Parameters:\n",
    "        image: numpy array of shape (28, 28) representing the grayscale image\n",
    "        activation_mask: numpy array of shape (10,) where each element is 1 (active) or 0 (inactive)\n",
    "    \"\"\"\n",
    "    # Create a copy of the image to modify based on activation\n",
    "    modified_image = np.zeros_like(image)\n",
    "    \n",
    "    # Calculate the grid size (2 rows, 5 columns for 10 parts)\n",
    "    row_size = 7 \n",
    "    col_size = 7  \n",
    "    \n",
    "    for i in range(4):  # 2 rows\n",
    "        for j in range(4):  # 5 columns\n",
    "            # Check if the segment is activated (1) or deactivated (0)\n",
    "            part_index = i * 4 + j\n",
    "            if activation_mask[part_index] == 1:\n",
    "                # Activate the segment, keeping original values from the image\n",
    "                modified_image[i*row_size:(i+1)*row_size, j*col_size:(j+1)*col_size] = \\\n",
    "                    image[i*row_size:(i+1)*row_size, j*col_size:(j+1)*col_size]\n",
    "    return modified_image\n"
   ]
  },
  {
   "cell_type": "code",
   "execution_count": 13,
   "metadata": {},
   "outputs": [],
   "source": [
    "def create_binary_list(indices, size =16):\n",
    "    binary_list = [0] * size  # Initialize all to 0\n",
    "    for i in indices:\n",
    "        if 0 <= i < size:  # Ensure index is within range\n",
    "            binary_list[i] = 1\n",
    "    return binary_list\n"
   ]
  },
  {
   "cell_type": "code",
   "execution_count": 14,
   "metadata": {},
   "outputs": [],
   "source": [
    "image = images[0].squeeze()\n"
   ]
  },
  {
   "cell_type": "code",
   "execution_count": 15,
   "metadata": {},
   "outputs": [
    {
     "name": "stdout",
     "output_type": "stream",
     "text": [
      "Activation Mask:  [0, 0, 0, 0, 0, 0, 0, 0, 0, 0, 1, 0, 1, 0, 0, 0]\n"
     ]
    },
    {
     "name": "stderr",
     "output_type": "stream",
     "text": [
      "/tmp/ipykernel_26471/143947436.py:23: DeprecationWarning: __array__ implementation doesn't accept a copy keyword, so passing copy=False failed. __array__ must implement 'dtype' and 'copy' keyword arguments.\n",
      "  modified_image[i*row_size:(i+1)*row_size, j*col_size:(j+1)*col_size] = \\\n"
     ]
    },
    {
     "data": {
      "image/png": "[encoded data removed]",
      "text/plain": [
       "<Figure size 640x480 with 1 Axes>"
      ]
     },
     "metadata": {},
     "output_type": "display_data"
    }
   ],
   "source": [
    "# Example image: Random 28x28 grayscale image (for demonstration)\n",
    "image = images[0].squeeze()\n",
    "set_idx = 49\n",
    "# Display the original and segmented image\n",
    "print(\"Activation Mask: \", create_binary_list(sets[set_idx]))\n",
    "modified_image = display_segmented_image(image, create_binary_list(sets[set_idx]))\n",
    "plt.imshow(modified_image, cmap='gray')\n",
    "plt.title('Segmented Image (Activated/Deactivated)')\n",
    "plt.axis('off')\n",
    "plt.show()"
   ]
  },
  {
   "cell_type": "code",
   "execution_count": 16,
   "metadata": {},
   "outputs": [
    {
     "ename": "NameError",
     "evalue": "name 'image_activated' is not defined",
     "output_type": "error",
     "traceback": [
      "\u001b[31m---------------------------------------------------------------------------\u001b[39m",
      "\u001b[31mNameError\u001b[39m                                 Traceback (most recent call last)",
      "\u001b[36mCell\u001b[39m\u001b[36m \u001b[39m\u001b[32mIn[16]\u001b[39m\u001b[32m, line 1\u001b[39m\n\u001b[32m----> \u001b[39m\u001b[32m1\u001b[39m model(torch.tensor(\u001b[43mimage_activated\u001b[49m))[\u001b[32m0\u001b[39m][\u001b[32m0\u001b[39m].item()\n",
      "\u001b[31mNameError\u001b[39m: name 'image_activated' is not defined"
     ]
    }
   ],
   "source": [
    "model(torch.tensor(image_activated))[0][0].item()"
   ]
  },
  {
   "cell_type": "code",
   "execution_count": null,
   "metadata": {},
   "outputs": [
    {
     "data": {
      "text/plain": [
       "(1, 1, 28, 28)"
      ]
     },
     "execution_count": 89,
     "metadata": {},
     "output_type": "execute_result"
    }
   ],
   "source": [
    "image_activated = np.expand_dims(image_activated, axis=0)\n",
    "image_activated.shape\n"
   ]
  },
  {
   "cell_type": "code",
   "execution_count": null,
   "metadata": {},
   "outputs": [
    {
     "name": "stderr",
     "output_type": "stream",
     "text": [
      "/tmp/ipykernel_2619/143947436.py:23: DeprecationWarning: __array__ implementation doesn't accept a copy keyword, so passing copy=False failed. __array__ must implement 'dtype' and 'copy' keyword arguments.\n",
      "  modified_image[i*row_size:(i+1)*row_size, j*col_size:(j+1)*col_size] = \\\n"
     ]
    },
    {
     "name": "stdout",
     "output_type": "stream",
     "text": [
      "0th x done\n",
      "1th x done\n",
      "2th x done\n",
      "3th x done\n",
      "4th x done\n",
      "5th x done\n",
      "6th x done\n",
      "7th x done\n",
      "8th x done\n",
      "9th x done\n",
      "10th x done\n",
      "11th x done\n",
      "12th x done\n",
      "13th x done\n",
      "14th x done\n",
      "15th x done\n"
     ]
    }
   ],
   "source": [
    "n = 16\n",
    "shapley_vals = np.zeros(n)\n",
    "all_values = []\n",
    "all_subset = []\n",
    "subsets = power_set(set(range(n)), 1000)\n",
    "\n",
    "for i in range(n):\n",
    "    \n",
    "    for subset in subsets:\n",
    "        if i in subset: \n",
    "            subset_with_i = list(subset) \n",
    "            subset_without_i = subset\n",
    "            subset_without_i.discard(i) \n",
    "        else : \n",
    "            subset_without_i = list(subset) \n",
    "            subset_with_i = list(subset) + [i]\n",
    "\n",
    "        weight = (math.factorial(len(subset_without_i)) * math.factorial(n - len(subset_without_i) - 1)) / math.factorial(n)\n",
    "\n",
    "\n",
    "        image_activated = display_segmented_image(image, create_binary_list(subset_with_i))\n",
    "        image_deactivated = display_segmented_image(image, create_binary_list(subset_without_i))\n",
    "        image_activated = np.expand_dims(image_activated, axis=0)\n",
    "        image_deactivated = np.expand_dims(image_deactivated, axis=0)\n",
    "\n",
    "        v_S_i = model(torch.tensor(np.expand_dims(image_activated, axis=0)))[0][0].item()\n",
    "        v_S = model(torch.tensor(np.expand_dims(image_deactivated, axis=0)))[0][0].item()\n",
    "\n",
    "        \n",
    "        all_values.append(v_S_i)\n",
    "        all_subset.append(len(subset))\n",
    "\n",
    "        # Compute marginal contribution\n",
    "        shapley_vals[i] += weight * (v_S_i - v_S)\n",
    "    print(f\"{i}th x done\")\n",
    "\n"
   ]
  },
  {
   "cell_type": "code",
   "execution_count": null,
   "metadata": {},
   "outputs": [
    {
     "data": {
      "text/plain": [
       "[]"
      ]
     },
     "execution_count": 102,
     "metadata": {},
     "output_type": "execute_result"
    },
    {
     "data": {
      "image/png": "[encoded data removed]",
      "text/plain": [
       "<Figure size 640x480 with 1 Axes>"
      ]
     },
     "metadata": {},
     "output_type": "display_data"
    }
   ],
   "source": [
    "length_to_sum = {}  # Stores sum of values for each length\n",
    "length_to_count = {}  # Stores count of occurrences for each length\n",
    "\n",
    "# Group sums and counts by length\n",
    "for length, value in zip(all_subset, all_values):\n",
    "    if length in length_to_sum:\n",
    "        length_to_sum[length] += value\n",
    "        length_to_count[length] += 1\n",
    "    else:\n",
    "        length_to_sum[length] = value\n",
    "        length_to_count[length] = 1\n",
    "\n",
    "# Compute mean for each length\n",
    "mean_by_length = {length: length_to_sum[length] / length_to_count[length] for length in length_to_sum}\n",
    "\n",
    "plt.scatter(mean_by_length.keys(),mean_by_length.values())\n",
    "plt.xlabel('Subset lenght')\n",
    "plt.ylabel('loss')\n",
    "plt.title('mean loss for the number of x activated')\n",
    "plt.xticks(range(0,18))\n",
    "plt.grid()\n",
    "plt.plot()"
   ]
  },
  {
   "cell_type": "code",
   "execution_count": null,
   "metadata": {},
   "outputs": [
    {
     "data": {
      "text/plain": [
       "<matplotlib.image.AxesImage at 0x7f22d6c3f9d0>"
      ]
     },
     "execution_count": 104,
     "metadata": {},
     "output_type": "execute_result"
    },
    {
     "data": {
      "image/png": "[encoded data removed]",
      "text/plain": [
       "<Figure size 640x480 with 1 Axes>"
      ]
     },
     "metadata": {},
     "output_type": "display_data"
    }
   ],
   "source": [
    "plt.imshow(image, cmap='gray')\n"
   ]
  },
  {
   "cell_type": "markdown",
   "metadata": {},
   "source": [
    "### SHAP for applying Shapley Value\n",
    "\n",
    "\n",
    "Indeed, first, the number of Shapley Values to compute grows exponentially with the number of features, resulting in high computational complexity for models with large feature spaces ($N$ features, $2^N$ coalitions).\n",
    "\n",
    "Second, defining a baseline to represent the \"absence\" of a feature is critical but can vary significantly depending on the data and domain, affecting the interpretability of the results.\n",
    "\n",
    "SHAP values are calculated based on the expected prediction of the model when only certain feature are available. $f_x(z') = f(h_x(z')) = E[f(z)|z_s]$\n",
    "\n",
    "Kernel SHAP is a model-agnostic approach that uses a weighted linear regression framework to approximate Shapley Values by sampling feature subsets. "
   ]
  },
  {
   "cell_type": "code",
   "execution_count": null,
   "metadata": {},
   "outputs": [],
   "source": [
    "import shap\n",
    "\n"
   ]
  },
  {
   "cell_type": "code",
   "execution_count": null,
   "metadata": {},
   "outputs": [],
   "source": [
    "shap_loader = torch.utils.data.DataLoader(test_dataset, batch_size=1024, shuffle=False)\n",
    "\n",
    "\n",
    "batch = next(iter(test_all))\n",
    "images, _ = batch\n",
    "\n",
    "background = images[:100]\n",
    "test_images = images[wrong_label]\n"
   ]
  },
  {
   "cell_type": "code",
   "execution_count": null,
   "metadata": {},
   "outputs": [
    {
     "data": {
      "text/plain": [
       "torch.Size([100, 1, 28, 28])"
      ]
     },
     "execution_count": 89,
     "metadata": {},
     "output_type": "execute_result"
    }
   ],
   "source": [
    "background.shape"
   ]
  },
  {
   "cell_type": "code",
   "execution_count": null,
   "metadata": {},
   "outputs": [
    {
     "data": {
      "text/plain": [
       "torch.Size([6, 1, 28, 28])"
      ]
     },
     "execution_count": 90,
     "metadata": {},
     "output_type": "execute_result"
    }
   ],
   "source": [
    "test_images.shape"
   ]
  },
  {
   "cell_type": "code",
   "execution_count": null,
   "metadata": {},
   "outputs": [],
   "source": [
    "\n",
    "\n",
    "e = shap.DeepExplainer(model, background)\n",
    "shap_values = e.shap_values(test_images)"
   ]
  },
  {
   "cell_type": "code",
   "execution_count": null,
   "metadata": {},
   "outputs": [
    {
     "data": {
      "text/plain": [
       "(6, 1, 28, 28, 2)"
      ]
     },
     "execution_count": 92,
     "metadata": {},
     "output_type": "execute_result"
    }
   ],
   "source": [
    "shap_values.shape"
   ]
  },
  {
   "cell_type": "code",
   "execution_count": null,
   "metadata": {},
   "outputs": [],
   "source": [
    "shap_numpy = list(np.transpose(shap_values, (4, 0, 2, 3, 1)))\n",
    "test_numpy = np.swapaxes(np.swapaxes(test_images.numpy(), 1, -1), 1, 2)"
   ]
  },
  {
   "cell_type": "code",
   "execution_count": null,
   "metadata": {},
   "outputs": [
    {
     "data": {
      "image/png": "[encoded data removed]",
      "text/plain": [
       "<Figure size 900x1750 with 19 Axes>"
      ]
     },
     "metadata": {},
     "output_type": "display_data"
    }
   ],
   "source": [
    "shap.image_plot(shap_numpy, -test_numpy)"
   ]
  },
  {
   "cell_type": "markdown",
   "metadata": {},
   "source": [
    "Remark : \n",
    "\n",
    "- In this example we are using grayscale, so we are only computing the gradient of each pixel on one dimension. In case the input is several dimension, the \n",
    "\n",
    "- One sanity test to run is to test to check the completeness. The completness property is imply by the sensitivity $\\sum_{i=1}^{n}IntegratedGrads(x)=F(x) - F(x')$"
   ]
  }
 ],
 "metadata": {
  "kernelspec": {
   "display_name": "XAI_methods",
   "language": "python",
   "name": "python3"
  },
  "language_info": {
   "codemirror_mode": {
    "name": "ipython",
    "version": 3
   },
   "file_extension": ".py",
   "mimetype": "text/x-python",
   "name": "python",
   "nbconvert_exporter": "python",
   "pygments_lexer": "ipython3",
   "version": "3.13.2"
  }
 },
 "nbformat": 4,
 "nbformat_minor": 2
}
