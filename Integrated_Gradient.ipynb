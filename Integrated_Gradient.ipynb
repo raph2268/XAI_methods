{
 "cells": [
  {
   "cell_type": "markdown",
   "metadata": {},
   "source": [
    "# Integrated Gradient "
   ]
  },
  {
   "cell_type": "markdown",
   "metadata": {},
   "source": [
    "Integrated gradient is a model-specific XAI method. Indeed, it requires a **gradient**.\n",
    "Let's first create and train a model\n",
    "  "
   ]
  },
  {
   "cell_type": "markdown",
   "metadata": {},
   "source": [
    "## Imports"
   ]
  },
  {
   "cell_type": "code",
   "execution_count": 6,
   "metadata": {},
   "outputs": [],
   "source": [
    "import torch\n",
    "import torch.nn as nn\n",
    "import torch.optim as optim\n",
    "import torchvision\n",
    "import torchvision.transforms as transforms\n",
    "import matplotlib.pyplot as plt\n",
    "import numpy as np"
   ]
  },
  {
   "cell_type": "markdown",
   "metadata": {},
   "source": [
    "## Data import \n",
    "\n",
    "Let's us MNIST data set. To make our example even more clearer, we will classify only between 1 and 7. Usually the hardest to identify due to there similarity in script wrtting. "
   ]
  },
  {
   "cell_type": "code",
   "execution_count": 18,
   "metadata": {},
   "outputs": [],
   "source": [
    "from torch.utils.data import Dataset\n",
    "from torchvision import datasets, transforms\n",
    "import torch\n",
    "\n",
    "class SubsetMNIST(Dataset):\n",
    "    def __init__(self, original_dataset, classes=[1, 7]):\n",
    "        self.data = []\n",
    "        self.targets = []\n",
    "        \n",
    "        # Define the transformation to convert images to tensors\n",
    "        transform = transforms.Compose([transforms.ToTensor()])\n",
    "        \n",
    "        # Filter dataset to only include the classes you want\n",
    "        for i in range(len(original_dataset)):\n",
    "            img, label = original_dataset[i]\n",
    "            if label in classes:\n",
    "                # Apply the transformation to the image\n",
    "                img = transform(img)\n",
    "                \n",
    "                # Remap labels: 1 -> 0, 7 -> 1\n",
    "                if label == 1:\n",
    "                    label = 0\n",
    "                elif label == 7:\n",
    "                    label = 1\n",
    "                \n",
    "                self.data.append(img)\n",
    "                self.targets.append(label)\n",
    "        \n",
    "        # Convert the list of targets to a tensor\n",
    "        self.targets = torch.tensor(self.targets)\n",
    "\n",
    "    def __getitem__(self, index):\n",
    "        return self.data[index], self.targets[index]\n",
    "\n",
    "    def __len__(self):\n",
    "        return len(self.data)\n",
    "\n",
    "# Load the original MNIST dataset\n",
    "full_train_dataset = datasets.MNIST(root='./data', train=True, download=True)\n",
    "full_test_dataset = datasets.MNIST(root='./data', train=False, download=True)\n",
    "\n",
    "# Create a subset of the MNIST dataset containing only classes 1 and 7\n",
    "train_dataset = SubsetMNIST(full_train_dataset, classes=[1, 7])\n",
    "test_dataset = SubsetMNIST(full_test_dataset, classes=[1, 7])\n",
    "\n",
    "\n",
    "# Create DataLoaders\n",
    "train_loader = torch.utils.data.DataLoader(train_dataset, batch_size=64, shuffle=True)\n",
    "test_loader = torch.utils.data.DataLoader(test_dataset, batch_size=1, shuffle=False)\n"
   ]
  },
  {
   "cell_type": "markdown",
   "metadata": {},
   "source": [
    "## Model :\n",
    "\n",
    "Let's now build our simple CNN model"
   ]
  },
  {
   "cell_type": "code",
   "execution_count": null,
   "metadata": {},
   "outputs": [],
   "source": [
    "class MNIST_CNN(nn.Module):\n",
    "    def __init__(self):\n",
    "        super(MNIST_CNN, self).__init__()\n",
    "        self.conv1 = nn.Conv2d(1, 16, kernel_size=3, stride=1, padding=1)  # 28x28 -> 28x28\n",
    "        self.conv2 = nn.Conv2d(16, 32, kernel_size=3, stride=1, padding=1)  # 28x28 -> 28x28\n",
    "        self.pool = nn.AvgPool2d(2, 2)  # 28x28 -> 14x14\n",
    "        self.fc1 = nn.Linear(32 * 14 * 14, 2)  # 32 channels * 14x14 spatial size -> 2 classes\n",
    "        self.relu = nn.ReLU()\n",
    "\n",
    "    def forward(self, x):\n",
    "        x = self.conv1(x)\n",
    "        x = self.relu(x)\n",
    "        x = self.conv2(x)\n",
    "        x = self.relu(x)\n",
    "        x = self.pool(x)  # Pooling to reduce the size\n",
    "        x = x.view(x.size(0), -1)  # Flatten the tensor for the fully connected layer\n",
    "        x = self.fc1(x)\n",
    "        return x\n"
   ]
  },
  {
   "cell_type": "markdown",
   "metadata": {},
   "source": [
    "### Training \n",
    "Let's train it for a few epochs :"
   ]
  },
  {
   "cell_type": "code",
   "execution_count": 9,
   "metadata": {},
   "outputs": [
    {
     "name": "stdout",
     "output_type": "stream",
     "text": [
      "Epoch [1/5], Loss: 0.0613\n",
      "Epoch [2/5], Loss: 0.0160\n",
      "Epoch [3/5], Loss: 0.0121\n",
      "Epoch [4/5], Loss: 0.0106\n",
      "Epoch [5/5], Loss: 0.0082\n",
      "Training complete!\n"
     ]
    }
   ],
   "source": [
    "# Initialize the model, criterion, and optimizer\n",
    "model = MNIST_CNN()\n",
    "criterion = nn.CrossEntropyLoss()\n",
    "optimizer = optim.Adam(model.parameters(), lr=0.001)\n",
    "\n",
    "# Training loop\n",
    "num_epochs = 5  # Set number of epochs as needed\n",
    "\n",
    "for epoch in range(num_epochs):\n",
    "    model.train()\n",
    "    running_loss = 0.0\n",
    "\n",
    "    for images, labels in train_loader:\n",
    "        optimizer.zero_grad()\n",
    "        outputs = model(images)\n",
    "        loss = criterion(outputs, labels)\n",
    "        loss.backward()\n",
    "        optimizer.step()\n",
    "        running_loss += loss.item()\n",
    "\n",
    "    print(f\"Epoch [{epoch+1}/{num_epochs}], Loss: {running_loss/len(train_loader):.4f}\")\n",
    "\n",
    "print(\"Training complete!\")\n"
   ]
  },
  {
   "cell_type": "code",
   "execution_count": 10,
   "metadata": {},
   "outputs": [
    {
     "name": "stdout",
     "output_type": "stream",
     "text": [
      "Accuracy on test set: 99.77%\n"
     ]
    }
   ],
   "source": [
    "correct = 0\n",
    "total = 0\n",
    "with torch.no_grad():  # No gradients needed for evaluation\n",
    "    for images, labels in test_loader:\n",
    "        outputs = model(images)\n",
    "        _, predicted = torch.max(outputs, 1)\n",
    "        total += labels.size(0)\n",
    "        correct += (predicted == labels).sum().item()\n",
    "\n",
    "accuracy = correct / total * 100\n",
    "print(f\"Accuracy on test set: {accuracy:.2f}%\")\n"
   ]
  },
  {
   "cell_type": "markdown",
   "metadata": {},
   "source": [
    "### Evaluation : \n",
    "\n",
    "Finally let's evaluate to check the robustness of our model"
   ]
  },
  {
   "cell_type": "code",
   "execution_count": null,
   "metadata": {},
   "outputs": [
    {
     "name": "stdout",
     "output_type": "stream",
     "text": [
      "torch.Size([5, 1, 28, 28])\n"
     ]
    },
    {
     "data": {
      "image/png": "[encoded data removed]",
      "text/plain": [
       "<Figure size 640x480 with 5 Axes>"
      ]
     },
     "metadata": {},
     "output_type": "display_data"
    },
    {
     "name": "stdout",
     "output_type": "stream",
     "text": [
      "Accuracy on test set: 99.77%\n"
     ]
    }
   ],
   "source": [
    "import matplotlib.pyplot as plt\n",
    "\n",
    "# Set model to evaluation mode\n",
    "model.eval()\n",
    "test_loader = torch.utils.data.DataLoader(test_dataset, batch_size=5, shuffle=False)\n",
    "\n",
    "# Get a batch of test data\n",
    "images, labels = next(iter(test_loader))  # Get a batch of images\n",
    "outputs = model(images)\n",
    "print(images.shape)\n",
    "# Get predicted class indices\n",
    "_, predicted = torch.max(outputs, 1)\n",
    "\n",
    "# Plot the first 5 images in the batch with their predicted and true labels\n",
    "for i in range(5):\n",
    "    plt.subplot(1, 5, i+1)\n",
    "    plt.imshow(images[i].squeeze(), cmap=\"gray\")  # squeeze to remove unnecessary dimension\n",
    "    plt.title(f\"Pred: {(predicted[i].item())*6+1} \\n True: {(labels[i].item())*6+1}\")\n",
    "    plt.axis('off')\n",
    "\n",
    "plt.show()\n",
    "\n",
    "# Compute accuracy on the test dataset\n",
    "correct = 0\n",
    "total = 0\n",
    "with torch.no_grad():  # No need to track gradients for evaluation\n",
    "    for images, labels in test_loader:\n",
    "        outputs = model(images)\n",
    "        _, predicted = torch.max(outputs, 1)\n",
    "        total += labels.size(0)\n",
    "        correct += (predicted == labels).sum().item()\n",
    "\n",
    "accuracy = correct / total * 100  # Accuracy as percentage\n",
    "print(f\"Accuracy on test set: {accuracy:.2f}%\")\n",
    "\n"
   ]
  },
  {
   "cell_type": "markdown",
   "metadata": {},
   "source": [
    "## Integrated gradient "
   ]
  },
  {
   "cell_type": "markdown",
   "metadata": {},
   "source": [
    "Integrated gradient quantifies the contribution of each input feature to a model's prediction.\n",
    "\n",
    "It has been built to resepect two desirable properties : \n",
    "- **Sensitivity**: ensures non-zero attributions for features that affect the prediction.\n",
    "- **Implementation invariance**: guaranty consistent attributions for functionally equivalent models.\n",
    "\n",
    "**IG consider the contribution of the $i-th$ dimension (or feature) to be the gradient at all points along the line segment in ${\\rm I\\!R}$ connecting $x$ to $x'$.**\n",
    "\n",
    "\n",
    "\\begin{equation}\n",
    "  IG_i(x) = (x_i -x'_i)*\\int_{\\alpha=0}^{1}\\dfrac{\\delta F(x'+\\alpha*(x-x'))} {\\delta x_i} d\\alpha\n",
    "\\end{equation}\n",
    "\n",
    "Where $x'$ is a chosen reference, that approximate a null contribution, (e.g. a black pixel or gaussian noise).\n",
    "\n",
    "$x'+\\alpha*(x-x'))$ controls how close we are getting from $x$. With $\\alpha$ close to $0$, we are very close to $x'$.\n",
    "\n",
    "$(x_i -x'_i)$ is used to weight the contribution. The further the evaluated feature is from the reference, the *longest* is the path and so the higher the contribution is supposed to be. \n",
    "\n",
    "\n",
    "\n",
    "In practice, we approximate this gradient by summing up the contribution taking steps from $x$ to $x'$\n",
    "\n",
    "\\begin{equation}\n",
    "  IG_i(x) = (x_i -x'_i)*\\sum_{k=1}^{m}\\dfrac{\\delta F(x'+\\dfrac{k}{m}*(x-x'))} {\\delta x_i} \\dfrac{1}{m}\n",
    "\\end{equation}\n",
    "\n",
    "\n"
   ]
  },
  {
   "cell_type": "code",
   "execution_count": 62,
   "metadata": {},
   "outputs": [],
   "source": [
    "\n",
    "\n",
    "def integrated_gradients(model, x, baseline, target_class, steps=50):\n",
    "    \"\"\"\n",
    "    Computes Integrated Gradients for an image `x` w.r.t. `target_class`.\n",
    "    \n",
    "    Args:\n",
    "        model: The trained CNN model.\n",
    "        x: The input image tensor (1, 1, 28, 28).\n",
    "        baseline: The baseline image.\n",
    "        target_class: The class index for IG computation.\n",
    "        steps: Number of steps for IG approximation.\n",
    "\n",
    "    Returns:\n",
    "        IG attributions as a heatmap.\n",
    "    \"\"\"\n",
    "    # Generate interpolated images\n",
    "    alphas = torch.linspace(0, 1, steps).view(-1, 1, 1, 1)  # Use linear space\n",
    "    interpolated_inputs = baseline + alphas * (x - baseline)\n",
    "\n",
    "    # Store gradients\n",
    "    gradients = torch.zeros_like(x)\n",
    "\n",
    "\n",
    "    fig, axes = plt.subplots(1, (steps // 10)+2, figsize=(steps // 10 * 2, 2))\n",
    "    plot_idx = 0\n",
    "\n",
    "    # Loop over interpolated images and compute gradients\n",
    "    for i in range(steps):\n",
    "        interpolated_input = interpolated_inputs[i].unsqueeze(0).requires_grad_()\n",
    "\n",
    "        if i % 10 == 0:\n",
    "            # Show current interpolation step\n",
    "            img = interpolated_input.squeeze().detach().cpu().numpy()\n",
    "            axes[plot_idx].imshow(img, cmap=\"gray\", vmin=0, vmax=1)\n",
    "            axes[plot_idx].set_title(f\"Step {i+1}/{steps}\")\n",
    "            axes[plot_idx].axis(\"off\")\n",
    "            plot_idx += 1 \n",
    "\n",
    "        output = model(interpolated_input)  # Add batch dim\n",
    "        target_output = output[0, target_class]  # Get target class score\n",
    "\n",
    "        # Backward pass\n",
    "        model.zero_grad()  # Clear gradients from previous step\n",
    "        target_output.backward(retain_graph=True)  # Retain the graph for multiple backward passes\n",
    "\n",
    "        # Accumulate gradients\n",
    "        gradients += interpolated_input.grad.detach()\n",
    "       \n",
    "\n",
    "    axes[plot_idx].imshow(x.squeeze(), cmap=\"gray\", vmin=0, vmax=1)\n",
    "    axes[plot_idx].set_title(f\"Raw image\")\n",
    "    axes[plot_idx].axis(\"off\")\n",
    "    plot_idx += 1 \n",
    "\n",
    "    \n",
    "\n",
    "    # Average gradients over steps\n",
    "    avg_gradients = gradients / steps\n",
    "    integrated_grads = (x - baseline) * avg_gradients\n",
    "    \n",
    "    axes[plot_idx].imshow(integrated_grads.squeeze(), cmap=\"hot\", vmin=0, vmax=1)\n",
    "    axes[plot_idx].set_title(f\"IG\")\n",
    "    axes[plot_idx].axis(\"off\")\n",
    "    plot_idx += 1\n",
    "    return integrated_grads\n",
    "\n"
   ]
  },
  {
   "cell_type": "code",
   "execution_count": 67,
   "metadata": {},
   "outputs": [
    {
     "name": "stdout",
     "output_type": "stream",
     "text": [
      "1\n"
     ]
    },
    {
     "data": {
      "image/png": "[encoded data removed]",
      "text/plain": [
       "<Figure size 1000x200 with 7 Axes>"
      ]
     },
     "metadata": {},
     "output_type": "display_data"
    }
   ],
   "source": [
    "test_image, test_label = test_dataset[278]  # Image wrongly classified\n",
    "\n",
    "test_image = test_image.unsqueeze(0) \n",
    "\n",
    "# Define a zero baseline (black image)\n",
    "baseline = torch.zeros_like(test_image)\n",
    "\n",
    "# Get the predicted class for our test image\n",
    "output = model(test_image)\n",
    "predicted_class = output.argmax().item()\n",
    "print(predicted_class*6+1)\n",
    "# Compute Integrated Gradients\n",
    "ig_attributions = integrated_gradients(model, test_image, baseline, target_class=predicted_class, steps=50)"
   ]
  },
  {
   "cell_type": "code",
   "execution_count": 66,
   "metadata": {},
   "outputs": [
    {
     "name": "stdout",
     "output_type": "stream",
     "text": [
      "1\n"
     ]
    },
    {
     "data": {
      "image/png": "[encoded data removed]",
      "text/plain": [
       "<Figure size 1000x200 with 7 Axes>"
      ]
     },
     "metadata": {},
     "output_type": "display_data"
    }
   ],
   "source": [
    "test_image, test_label = test_dataset[329]  # Image wrongly classified\n",
    "\n",
    "test_image = test_image.unsqueeze(0) \n",
    "\n",
    "# Define a zero baseline (black image)\n",
    "baseline = torch.zeros_like(test_image)\n",
    "\n",
    "# Get the predicted class for our test image\n",
    "output = model(test_image)\n",
    "predicted_class = output.argmax().item()\n",
    "print(predicted_class*6+1)\n",
    "# Compute Integrated Gradients\n",
    "ig_attributions = integrated_gradients(model, test_image, baseline, target_class=predicted_class, steps=50) # Add batch dimension"
   ]
  },
  {
   "cell_type": "markdown",
   "metadata": {},
   "source": [
    "Remark : \n",
    "\n",
    "- In this example we are using grayscale, so we are only computing the gradient of each pixel on one dimension. In case the input is several dimension, the \n",
    "\n",
    "- One sanity test to run is to test to check the completeness. The completness property is imply by the sensitivity $\\sum_{i=1}^{n}IntegratedGrads(x)=F(x) - F(x')$"
   ]
  }
 ],
 "metadata": {
  "kernelspec": {
   "display_name": "XAI_methods",
   "language": "python",
   "name": "python3"
  },
  "language_info": {
   "codemirror_mode": {
    "name": "ipython",
    "version": 3
   },
   "file_extension": ".py",
   "mimetype": "text/x-python",
   "name": "python",
   "nbconvert_exporter": "python",
   "pygments_lexer": "ipython3",
   "version": "3.13.2"
  }
 },
 "nbformat": 4,
 "nbformat_minor": 2
}
